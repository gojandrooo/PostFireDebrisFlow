{
 "cells": [
  {
   "cell_type": "markdown",
   "id": "02009ac5-3a41-4bed-af33-52f410e332b6",
   "metadata": {},
   "source": [
    "# 1. Feature Preparation\n",
    "\n",
    "- Define additional features `SedUn` and `SuscFrac`\n",
    "- Carry out train-test split\n",
    "- Fit StandardScaler to data and save."
   ]
  },
  {
   "cell_type": "code",
   "execution_count": 1,
   "id": "8426412a",
   "metadata": {},
   "outputs": [
    {
     "name": "stderr",
     "output_type": "stream",
     "text": [
      "/usr/local/lib/python3.8/dist-packages/geopandas/_compat.py:111: UserWarning: The Shapely GEOS version (3.10.2-CAPI-1.16.0) is incompatible with the GEOS version PyGEOS was compiled with (3.10.1-CAPI-1.16.0). Conversions between both will be slow.\n",
      "  warnings.warn(\n"
     ]
    }
   ],
   "source": [
    "import pandas as pd\n",
    "pd.set_option(\"max_colwidth\", 50)\n",
    "import geopandas as gpd"
   ]
  },
  {
   "cell_type": "code",
   "execution_count": 2,
   "id": "0ca7180f",
   "metadata": {},
   "outputs": [],
   "source": [
    "import sklearn\n",
    "import numpy as np"
   ]
  },
  {
   "cell_type": "code",
   "execution_count": 3,
   "id": "a4450a4c",
   "metadata": {},
   "outputs": [],
   "source": [
    "pqfile=\"../data_preparation/staley16_observations_catchment_fuelpars_rocktype_randn_v3.parquet\"\n",
    "modelDataI = gpd.read_parquet(pqfile)"
   ]
  },
  {
   "cell_type": "code",
   "execution_count": 4,
   "id": "6394dc78-e4f4-4d3c-b912-dcaa045c9870",
   "metadata": {},
   "outputs": [
    {
     "data": {
      "text/plain": [
       "Index(['fire_name', 'year', 'fire_id', 'fire_segid', 'database', 'state',\n",
       "       'response', 'stormdate', 'gaugedist_m', 'stormstart', 'stormend',\n",
       "       'stormdur_h', 'stormaccum_mm', 'stormavgi_mmh', 'peak_i15_mmh',\n",
       "       'peak_i30_mmh', 'peak_i60_mmh', 'contributingarea_km2', 'prophm23',\n",
       "       'dnbr1000', 'kf', 'acc015_mm', 'acc030_mm', 'acc060_mm', 'geom', 'lon',\n",
       "       'lat', 'SiteID', 'NB', 'GR', 'GS', 'SH', 'TU', 'TL', 'dom',\n",
       "       'Fine fuel load', 'SAV', 'Packing ratio', 'Extinction moisture content',\n",
       "       'Igneous', 'Metamorphic', 'Sedimentary', 'Unconsolidated', 'domrt'],\n",
       "      dtype='object')"
      ]
     },
     "execution_count": 4,
     "metadata": {},
     "output_type": "execute_result"
    }
   ],
   "source": [
    "modelDataI.columns"
   ]
  },
  {
   "cell_type": "markdown",
   "id": "a497bf4d-6427-4a78-9ee2-2c5ebd085a38",
   "metadata": {},
   "source": [
    "Combining Sedimentary and Unconsolidated rocks, which have similar debris flow occurrences."
   ]
  },
  {
   "cell_type": "markdown",
   "id": "a409b88f-07b8-405a-9da2-3975fe766b3b",
   "metadata": {},
   "source": [
    "Define additional features:\n",
    "-  `SedUn`: fraction of watershed covered by sedimentary and unconsolidated rocks.\n",
    "- `SuscFrac`: fraction of watershed covered by susceptible vegetation types (everything except grassland, `GR`"
   ]
  },
  {
   "cell_type": "code",
   "execution_count": 5,
   "id": "3785272d-65e5-496a-87af-34067b8f584c",
   "metadata": {},
   "outputs": [],
   "source": [
    "modelDataI[\"SedUn\"]=modelDataI[\"Sedimentary\"] + modelDataI[\"Unconsolidated\"]\n",
    "modelDataI[\"SuscFrac\"]=modelDataI[\"GS\"] + modelDataI[\"SH\"] + modelDataI[\"TL\"] + modelDataI[\"TU\"]"
   ]
  },
  {
   "cell_type": "code",
   "execution_count": 16,
   "id": "7e55b117",
   "metadata": {},
   "outputs": [],
   "source": [
    "#Columns to use for training\n",
    "\n",
    "usecols=[\"stormdur_h\",\n",
    "         \"stormaccum_mm\",\n",
    "         \"peak_i15_mmh\",\n",
    "         \"contributingarea_km2\",\n",
    "         \"prophm23\",\n",
    "         \"dnbr1000\",\n",
    "         \"kf\",\n",
    "         \"SedUn\",\n",
    "         \"SuscFrac\",\n",
    "         \"Fine fuel load\",\n",
    "         \"response\",\n",
    "         \"SiteID\"]"
   ]
  },
  {
   "cell_type": "code",
   "execution_count": 17,
   "id": "0d1e7ea9",
   "metadata": {},
   "outputs": [],
   "source": [
    "cdata=modelDataI[usecols].copy()"
   ]
  },
  {
   "cell_type": "code",
   "execution_count": 18,
   "id": "b73cfaec",
   "metadata": {},
   "outputs": [
    {
     "data": {
      "text/plain": [
       "1550"
      ]
     },
     "execution_count": 18,
     "metadata": {},
     "output_type": "execute_result"
    }
   ],
   "source": [
    "len(cdata)"
   ]
  },
  {
   "cell_type": "code",
   "execution_count": 19,
   "id": "73c6d93f",
   "metadata": {},
   "outputs": [
    {
     "name": "stdout",
     "output_type": "stream",
     "text": [
      "1241\n"
     ]
    }
   ],
   "source": [
    "cdata.dropna(inplace=True)\n",
    "print(len(cdata))"
   ]
  },
  {
   "cell_type": "code",
   "execution_count": 20,
   "id": "24f75b2e",
   "metadata": {},
   "outputs": [
    {
     "data": {
      "text/html": [
       "<div>\n",
       "<style scoped>\n",
       "    .dataframe tbody tr th:only-of-type {\n",
       "        vertical-align: middle;\n",
       "    }\n",
       "\n",
       "    .dataframe tbody tr th {\n",
       "        vertical-align: top;\n",
       "    }\n",
       "\n",
       "    .dataframe thead th {\n",
       "        text-align: right;\n",
       "    }\n",
       "</style>\n",
       "<table border=\"1\" class=\"dataframe\">\n",
       "  <thead>\n",
       "    <tr style=\"text-align: right;\">\n",
       "      <th></th>\n",
       "      <th>stormdur_h</th>\n",
       "      <th>stormaccum_mm</th>\n",
       "      <th>peak_i15_mmh</th>\n",
       "      <th>contributingarea_km2</th>\n",
       "      <th>prophm23</th>\n",
       "      <th>dnbr1000</th>\n",
       "      <th>kf</th>\n",
       "      <th>SedUn</th>\n",
       "      <th>SuscFrac</th>\n",
       "      <th>Fine fuel load</th>\n",
       "      <th>response</th>\n",
       "      <th>SiteID</th>\n",
       "    </tr>\n",
       "  </thead>\n",
       "  <tbody>\n",
       "    <tr>\n",
       "      <th>count</th>\n",
       "      <td>1241.000000</td>\n",
       "      <td>1241.000000</td>\n",
       "      <td>1241.000000</td>\n",
       "      <td>1241.000000</td>\n",
       "      <td>1241.000000</td>\n",
       "      <td>1241.000000</td>\n",
       "      <td>1241.000000</td>\n",
       "      <td>1241.000000</td>\n",
       "      <td>1241.000000</td>\n",
       "      <td>1241.000000</td>\n",
       "      <td>1241.000000</td>\n",
       "      <td>1241.000000</td>\n",
       "    </tr>\n",
       "    <tr>\n",
       "      <th>mean</th>\n",
       "      <td>20.680375</td>\n",
       "      <td>40.645190</td>\n",
       "      <td>22.243663</td>\n",
       "      <td>1.075530</td>\n",
       "      <td>0.475066</td>\n",
       "      <td>0.336579</td>\n",
       "      <td>0.232977</td>\n",
       "      <td>0.219603</td>\n",
       "      <td>0.707096</td>\n",
       "      <td>2.139664</td>\n",
       "      <td>0.254633</td>\n",
       "      <td>388.271555</td>\n",
       "    </tr>\n",
       "    <tr>\n",
       "      <th>std</th>\n",
       "      <td>17.975764</td>\n",
       "      <td>40.266440</td>\n",
       "      <td>19.618746</td>\n",
       "      <td>1.533322</td>\n",
       "      <td>0.276599</td>\n",
       "      <td>0.189419</td>\n",
       "      <td>0.474465</td>\n",
       "      <td>0.394165</td>\n",
       "      <td>0.227012</td>\n",
       "      <td>0.902508</td>\n",
       "      <td>0.435831</td>\n",
       "      <td>198.313326</td>\n",
       "    </tr>\n",
       "    <tr>\n",
       "      <th>min</th>\n",
       "      <td>0.000000</td>\n",
       "      <td>1.331610</td>\n",
       "      <td>1.474149</td>\n",
       "      <td>0.020100</td>\n",
       "      <td>0.000000</td>\n",
       "      <td>0.007158</td>\n",
       "      <td>0.000000</td>\n",
       "      <td>0.000000</td>\n",
       "      <td>0.000000</td>\n",
       "      <td>0.963445</td>\n",
       "      <td>0.000000</td>\n",
       "      <td>0.000000</td>\n",
       "    </tr>\n",
       "    <tr>\n",
       "      <th>25%</th>\n",
       "      <td>3.574931</td>\n",
       "      <td>10.521874</td>\n",
       "      <td>10.095109</td>\n",
       "      <td>0.117824</td>\n",
       "      <td>0.224443</td>\n",
       "      <td>0.189733</td>\n",
       "      <td>0.150000</td>\n",
       "      <td>0.000000</td>\n",
       "      <td>0.540533</td>\n",
       "      <td>1.595921</td>\n",
       "      <td>0.000000</td>\n",
       "      <td>213.000000</td>\n",
       "    </tr>\n",
       "    <tr>\n",
       "      <th>50%</th>\n",
       "      <td>16.886956</td>\n",
       "      <td>26.191091</td>\n",
       "      <td>16.498849</td>\n",
       "      <td>0.468936</td>\n",
       "      <td>0.518990</td>\n",
       "      <td>0.311063</td>\n",
       "      <td>0.237299</td>\n",
       "      <td>0.000000</td>\n",
       "      <td>0.745620</td>\n",
       "      <td>1.869197</td>\n",
       "      <td>0.000000</td>\n",
       "      <td>403.000000</td>\n",
       "    </tr>\n",
       "    <tr>\n",
       "      <th>75%</th>\n",
       "      <td>30.321443</td>\n",
       "      <td>58.139272</td>\n",
       "      <td>26.376207</td>\n",
       "      <td>1.375373</td>\n",
       "      <td>0.692219</td>\n",
       "      <td>0.456611</td>\n",
       "      <td>0.244227</td>\n",
       "      <td>0.146225</td>\n",
       "      <td>0.907119</td>\n",
       "      <td>2.190905</td>\n",
       "      <td>1.000000</td>\n",
       "      <td>561.000000</td>\n",
       "    </tr>\n",
       "    <tr>\n",
       "      <th>max</th>\n",
       "      <td>67.570797</td>\n",
       "      <td>238.504743</td>\n",
       "      <td>122.774776</td>\n",
       "      <td>7.888105</td>\n",
       "      <td>0.989526</td>\n",
       "      <td>0.997439</td>\n",
       "      <td>11.360418</td>\n",
       "      <td>1.000000</td>\n",
       "      <td>1.000000</td>\n",
       "      <td>6.568486</td>\n",
       "      <td>1.000000</td>\n",
       "      <td>715.000000</td>\n",
       "    </tr>\n",
       "  </tbody>\n",
       "</table>\n",
       "</div>"
      ],
      "text/plain": [
       "        stormdur_h  stormaccum_mm  peak_i15_mmh  contributingarea_km2  \\\n",
       "count  1241.000000    1241.000000   1241.000000           1241.000000   \n",
       "mean     20.680375      40.645190     22.243663              1.075530   \n",
       "std      17.975764      40.266440     19.618746              1.533322   \n",
       "min       0.000000       1.331610      1.474149              0.020100   \n",
       "25%       3.574931      10.521874     10.095109              0.117824   \n",
       "50%      16.886956      26.191091     16.498849              0.468936   \n",
       "75%      30.321443      58.139272     26.376207              1.375373   \n",
       "max      67.570797     238.504743    122.774776              7.888105   \n",
       "\n",
       "          prophm23     dnbr1000           kf        SedUn     SuscFrac  \\\n",
       "count  1241.000000  1241.000000  1241.000000  1241.000000  1241.000000   \n",
       "mean      0.475066     0.336579     0.232977     0.219603     0.707096   \n",
       "std       0.276599     0.189419     0.474465     0.394165     0.227012   \n",
       "min       0.000000     0.007158     0.000000     0.000000     0.000000   \n",
       "25%       0.224443     0.189733     0.150000     0.000000     0.540533   \n",
       "50%       0.518990     0.311063     0.237299     0.000000     0.745620   \n",
       "75%       0.692219     0.456611     0.244227     0.146225     0.907119   \n",
       "max       0.989526     0.997439    11.360418     1.000000     1.000000   \n",
       "\n",
       "       Fine fuel load     response       SiteID  \n",
       "count     1241.000000  1241.000000  1241.000000  \n",
       "mean         2.139664     0.254633   388.271555  \n",
       "std          0.902508     0.435831   198.313326  \n",
       "min          0.963445     0.000000     0.000000  \n",
       "25%          1.595921     0.000000   213.000000  \n",
       "50%          1.869197     0.000000   403.000000  \n",
       "75%          2.190905     1.000000   561.000000  \n",
       "max          6.568486     1.000000   715.000000  "
      ]
     },
     "execution_count": 20,
     "metadata": {},
     "output_type": "execute_result"
    }
   ],
   "source": [
    "cdata.describe()"
   ]
  },
  {
   "cell_type": "code",
   "execution_count": 21,
   "id": "507eaa18",
   "metadata": {},
   "outputs": [],
   "source": [
    "from sklearn.model_selection import train_test_split\n",
    "from sklearn.preprocessing import StandardScaler"
   ]
  },
  {
   "cell_type": "markdown",
   "id": "c2728ccf-90df-4992-b34d-0bf408cd8e53",
   "metadata": {},
   "source": [
    "Data rows are split by SiteID, such that observations made at same site (during different storms) are not assigned to the both the test and training set.\n",
    "The `unique` attribute is, therefore, essential - otherwise the split of train and test data by site is not guaranteed."
   ]
  },
  {
   "cell_type": "code",
   "execution_count": 33,
   "id": "3e4da2ba-57a1-4107-9471-e0ec6f4ca0d8",
   "metadata": {},
   "outputs": [],
   "source": [
    "import pickle\n",
    "[trainsites, testsites] = pickle.load(open(\"/tmp/testsites.pkl\", \"rb\"))"
   ]
  },
  {
   "cell_type": "code",
   "execution_count": 42,
   "id": "55d8ac2d-3dc0-490e-9bff-dea8a1dfa2bd",
   "metadata": {},
   "outputs": [],
   "source": [
    "trainsites, testsites = train_test_split(cdata[\"SiteID\"].unique(), test_size=0.20, shuffle=True, random_state=2)\n",
    "\n",
    "trainmask=cdata[\"SiteID\"].apply(lambda x: x in trainsites)\n",
    "testmask=cdata[\"SiteID\"].apply(lambda x: x in testsites)\n",
    "trainX=cdata[trainmask].drop(columns=[\"response\", \"SiteID\"])\n",
    "trainY=cdata[trainmask][\"response\"]\n",
    "\n",
    "testX=cdata[testmask].drop(columns=[\"response\", \"SiteID\"])\n",
    "testY=cdata[testmask][\"response\"]"
   ]
  },
  {
   "cell_type": "markdown",
   "id": "19af98d6-79e2-4fd3-ab0a-d3eecb470c2e",
   "metadata": {},
   "source": [
    "This is to double-check that there is no overlap between train and test sites in terms of SiteID (intersection is empty):"
   ]
  },
  {
   "cell_type": "code",
   "execution_count": 43,
   "id": "ac326f2f-0393-4d0c-bd4f-5a22d27a76b3",
   "metadata": {},
   "outputs": [
    {
     "data": {
      "text/plain": [
       "set()"
      ]
     },
     "execution_count": 43,
     "metadata": {},
     "output_type": "execute_result"
    }
   ],
   "source": [
    "set(trainsites) & set(testsites)"
   ]
  },
  {
   "cell_type": "markdown",
   "id": "ec10318e-6a49-4c10-9af1-9c15784982e1",
   "metadata": {},
   "source": [
    "Save to disk.  All ML models, saved in subsequent notebooks, will use the same train-test split."
   ]
  },
  {
   "cell_type": "code",
   "execution_count": 44,
   "id": "0028cf63-10fe-4ddc-baf9-370919173a43",
   "metadata": {},
   "outputs": [],
   "source": [
    "import pickle\n",
    "pickle.dump([trainX, trainY, testX, testY], open(\"staley16+addtl_feats_split.pkl\", \"wb\"))"
   ]
  },
  {
   "cell_type": "markdown",
   "id": "ee385b07-fd66-4778-8ee7-ec50626077d4",
   "metadata": {},
   "source": [
    "Scale features, and save scaler to disc.  This is to make sure that all models use the same feature scaling."
   ]
  },
  {
   "cell_type": "code",
   "execution_count": 45,
   "id": "fa85eb5d-a5f8-4abd-9f07-7969929c233e",
   "metadata": {},
   "outputs": [],
   "source": [
    "ssc=StandardScaler()\n",
    "ssc.fit_transform(trainX)\n",
    "pickle.dump(ssc, open(\"feature_scaler.pkl\", \"wb\"))"
   ]
  }
 ],
 "metadata": {
  "kernelspec": {
   "display_name": "Python 3 (ipykernel)",
   "language": "python",
   "name": "python3"
  },
  "language_info": {
   "codemirror_mode": {
    "name": "ipython",
    "version": 3
   },
   "file_extension": ".py",
   "mimetype": "text/x-python",
   "name": "python",
   "nbconvert_exporter": "python",
   "pygments_lexer": "ipython3",
   "version": "3.8.10"
  }
 },
 "nbformat": 4,
 "nbformat_minor": 5
}
