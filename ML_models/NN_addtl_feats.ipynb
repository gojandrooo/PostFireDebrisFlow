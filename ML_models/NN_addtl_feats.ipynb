{
 "cells": [
  {
   "cell_type": "markdown",
   "id": "35f24482-15cc-4b73-aab5-37926e2f67dc",
   "metadata": {},
   "source": [
    "# 5. Neural network trained on base and additional features.\n"
   ]
  },
  {
   "cell_type": "code",
   "execution_count": null,
   "id": "ddcb12b9-b132-48e0-a999-d1e4811fc437",
   "metadata": {},
   "outputs": [],
   "source": [
    "from numpy.random import seed\n",
    "seed(1)\n",
    "from tensorflow.keras.utils import set_random_seed\n",
    "set_random_seed(2)"
   ]
  },
  {
   "cell_type": "code",
   "execution_count": null,
   "id": "328bd076-4e0e-4c8e-a858-fbbbf2aa7b11",
   "metadata": {},
   "outputs": [],
   "source": [
    "import pandas as pd\n",
    "import numpy as np\n",
    "import pickle"
   ]
  },
  {
   "cell_type": "code",
   "execution_count": null,
   "id": "c462949a-e422-42a3-83f5-7f7ee80543c9",
   "metadata": {},
   "outputs": [],
   "source": [
    "from sklearn.model_selection import train_test_split, GridSearchCV\n",
    "from sklearn.metrics import accuracy_score, f1_score, jaccard_score, roc_auc_score\n",
    "from sklearn.preprocessing import StandardScaler\n",
    "from sklearn.model_selection import GridSearchCV\n",
    "import matplotlib.pyplot as plt\n",
    "plt.style.use('dark_background')"
   ]
  },
  {
   "cell_type": "code",
   "execution_count": null,
   "id": "0e3d8fb6-5ccd-4841-bb06-abd764cb041f",
   "metadata": {},
   "outputs": [],
   "source": [
    "from keras import Sequential, layers, models"
   ]
  },
  {
   "cell_type": "code",
   "execution_count": null,
   "id": "b242e0f5-c414-4584-b175-c62931714d7c",
   "metadata": {},
   "outputs": [],
   "source": [
    "X_train, Y_train, X_test, Y_test=pickle.load(open(\"staley16+addtl_feats_split.pkl\",\"rb\"))\n",
    "X_train.shape, Y_train.shape, X_test.shape, Y_test.shape"
   ]
  },
  {
   "cell_type": "code",
   "execution_count": null,
   "id": "13fffcbd-11a5-4dda-aec4-cf5aa444ccda",
   "metadata": {},
   "outputs": [],
   "source": [
    "use_feats = X_train.columns"
   ]
  },
  {
   "cell_type": "code",
   "execution_count": null,
   "id": "f74116b6-a705-4678-bb78-bcdc20a1262d",
   "metadata": {},
   "outputs": [],
   "source": [
    "X_train"
   ]
  },
  {
   "cell_type": "code",
   "execution_count": null,
   "id": "3c125dac-8b99-46e8-8507-e2185df0e3d0",
   "metadata": {},
   "outputs": [],
   "source": [
    "import pickle"
   ]
  },
  {
   "cell_type": "code",
   "execution_count": null,
   "id": "01e74bfa-15e9-4ada-8a1d-2da281da089d",
   "metadata": {},
   "outputs": [],
   "source": [
    "ssc=pickle.load(open(\"feature_scaler.pkl\", \"rb\"))\n",
    "X_train_s=ssc.transform(X_train)\n",
    "X_test_s=ssc.transform(X_test)\n",
    "print(X_train_s.shape, X_test_s.shape)"
   ]
  },
  {
   "cell_type": "code",
   "execution_count": null,
   "id": "57cf317a-f617-4347-bdc7-97c5b013afea",
   "metadata": {},
   "outputs": [],
   "source": [
    "def getModel(nins, drop=0.3):\n",
    "    inputs = layers.Input(shape=(nins,))\n",
    "    \n",
    "    x = layers.Dense(32, activation=None, kernel_initializer='glorot_normal')(inputs)\n",
    "    x = layers.BatchNormalization()(x)\n",
    "    x = layers.Activation('relu')(x)    \n",
    "    x = layers.Dropout(drop)(x) #.1\n",
    "    \n",
    "    x = layers.Dense(48, activation=None, kernel_initializer='glorot_normal')(x)\n",
    "    x = layers.BatchNormalization()(x)\n",
    "    x = layers.Activation('tanh')(x)    \n",
    "    x = layers.Dropout(drop)(x)       #.1   \n",
    "    \n",
    "    x = layers.Dense(92, activation=None, kernel_initializer='glorot_normal')(x)\n",
    "    x = layers.BatchNormalization()(x)\n",
    "    x = layers.Activation('relu')(x)    \n",
    "    x = layers.Dropout(drop)(x)       #.1\n",
    "        \n",
    "    x = layers.Dense(196, activation=None, kernel_initializer='glorot_normal')(x)\n",
    "    x = layers.BatchNormalization()(x)\n",
    "    x = layers.Activation('tanh')(x)    \n",
    "    x = layers.Dropout(drop)(x)       #.1\n",
    "    \n",
    "    x = layers.Dense(392, activation=None, kernel_initializer='glorot_normal')(x)\n",
    "    x = layers.BatchNormalization()(x)\n",
    "    x = layers.Activation('relu')(x)    \n",
    "    x = layers.Dropout(drop)(x)       #.1\n",
    "    \n",
    "    x = layers.Dense(196, activation=None, kernel_initializer='glorot_normal')(x)\n",
    "    x = layers.BatchNormalization()(x)\n",
    "    x = layers.Activation('tanh')(x)    \n",
    "    x = layers.Dropout(drop)(x)       #.1\n",
    "    \n",
    "    x = layers.Dense(92, activation=None, kernel_initializer='glorot_normal')(x)\n",
    "    x = layers.BatchNormalization()(x)\n",
    "    x = layers.Activation('relu')(x)    \n",
    "    x = layers.Dropout(drop)(x)   \n",
    "    \n",
    "    x = layers.Dense(48, activation=None, kernel_initializer='glorot_normal')(x)\n",
    "    x = layers.BatchNormalization()(x)\n",
    "    x = layers.Activation('tanh')(x)    \n",
    "    x = layers.Dropout(drop)(x)       #.1\n",
    "    \n",
    "    x = layers.Dense(32, activation=None, kernel_initializer='glorot_normal')(x)\n",
    "    x = layers.BatchNormalization()(x)\n",
    "    x = layers.Activation('relu')(x)     \n",
    "    x = layers.Dropout(drop/2)(x) #.05\n",
    "    \n",
    "    x = layers.Dense(16, activation=None, kernel_initializer='glorot_normal')(x)\n",
    "    x = layers.BatchNormalization()(x)\n",
    "    x = layers.Activation('tanh')(x)    \n",
    "    #x = layers.Dropout(0.05)(x)\n",
    "    \n",
    "    x = layers.Dense(8, activation=None, kernel_initializer='glorot_normal')(x)\n",
    "    x = layers.BatchNormalization()(x)\n",
    "    x = layers.Activation('relu')(x)    \n",
    "    #x = layers.Dropout(drop/8)(x)\n",
    "    predictions = layers.Dense(1, activation='sigmoid')(x)\n",
    "    \n",
    "    model = models.Model(inputs=inputs, outputs=predictions)\n",
    "    return model"
   ]
  },
  {
   "cell_type": "code",
   "execution_count": null,
   "id": "b11be4b9-7126-4d5d-892d-6cdcd2ecc488",
   "metadata": {},
   "outputs": [],
   "source": [
    "model=getModel(len(use_feats), drop=0.275)"
   ]
  },
  {
   "cell_type": "code",
   "execution_count": null,
   "id": "38409902-8099-40e3-a3ce-d666a695bfbc",
   "metadata": {},
   "outputs": [],
   "source": [
    "import tensorflow as tf"
   ]
  },
  {
   "cell_type": "code",
   "execution_count": null,
   "id": "323bdc1a-aad9-4986-8e89-55bf5e128aed",
   "metadata": {
    "tags": []
   },
   "outputs": [],
   "source": [
    "%%time\n",
    "opt = tf.keras.optimizers.Adam(learning_rate=0.001)\n",
    "model.compile(optimizer=opt, loss='binary_crossentropy',metrics=['accuracy','mae','BinaryIoU','AUC'])  #msle\n",
    "history = model.fit(X_train_s, Y_train, validation_split=0.0, epochs=2000, \n",
    "                    batch_size=100, verbose=0)"
   ]
  },
  {
   "cell_type": "code",
   "execution_count": null,
   "id": "168e3b6d-4adc-4455-a04b-8b332973a6e0",
   "metadata": {
    "tags": []
   },
   "outputs": [],
   "source": [
    "for key in history.history.keys():\n",
    "    print(key, history.history[key][-1])"
   ]
  },
  {
   "cell_type": "code",
   "execution_count": null,
   "id": "2b74c89f-47fe-48d5-a18c-7d3f3e9f2dca",
   "metadata": {},
   "outputs": [],
   "source": [
    "fig,ax=plt.subplots(ncols=3, figsize=(12,3))\n",
    "\n",
    "for n,metric in enumerate([\"loss\", \"mae\", \"binary_io_u\"]):\n",
    "    ax[n].plot(history.history[metric], label='train')\n",
    "    #ax[n].plot(history.history[\"val_\" + metric], label='test')\n",
    "    ax[n].set_title(metric)\n",
    "ax[0].legend()"
   ]
  },
  {
   "cell_type": "code",
   "execution_count": null,
   "id": "ece453b9-38b9-40a8-b5eb-038c4307da5f",
   "metadata": {},
   "outputs": [],
   "source": [
    "Y_train_pred=model.predict(X_train_s)"
   ]
  },
  {
   "cell_type": "code",
   "execution_count": null,
   "id": "ffbe2d8b-d382-446b-833b-d4868ce20a98",
   "metadata": {},
   "outputs": [],
   "source": [
    "jaccard_score(Y_train, np.round(Y_train_pred)), roc_auc_score(Y_train, Y_train_pred)\n",
    "#print(accuracy_score(Y_train, np.round(Y_train_pred)))"
   ]
  },
  {
   "cell_type": "code",
   "execution_count": null,
   "id": "b737defc-72eb-47a8-ae13-65bfffb334df",
   "metadata": {},
   "outputs": [],
   "source": [
    "Y_test_pred=model.predict(X_test_s)"
   ]
  },
  {
   "cell_type": "code",
   "execution_count": null,
   "id": "d130c758-1f06-4c3f-949a-beaafed4a538",
   "metadata": {},
   "outputs": [],
   "source": [
    "jaccard_score(Y_test, np.round(Y_test_pred)), roc_auc_score(Y_test, Y_test_pred)"
   ]
  },
  {
   "cell_type": "code",
   "execution_count": null,
   "id": "e6bd95b2-1a18-4f4c-8fcf-b16d7090dc8c",
   "metadata": {},
   "outputs": [],
   "source": [
    "from sklearn.metrics import roc_curve, RocCurveDisplay"
   ]
  },
  {
   "cell_type": "code",
   "execution_count": null,
   "id": "7cfb5a93-d328-4adb-b700-9eb4a4ae8cba",
   "metadata": {
    "tags": []
   },
   "outputs": [],
   "source": [
    "fig,ax=plt.subplots()\n",
    "RocCurveDisplay.from_predictions(Y_train, Y_train_pred, ax=ax, linewidth=1, \n",
    "                                 color='red', name='train', linestyle=\"dashed\")\n",
    "RocCurveDisplay.from_predictions(Y_test, Y_test_pred, ax=ax, linewidth=1, color='yellow', name='test')"
   ]
  },
  {
   "cell_type": "code",
   "execution_count": null,
   "id": "b7ba5874-864e-4a47-855a-a877531cd9d1",
   "metadata": {},
   "outputs": [],
   "source": [
    "Y_test_proba=np.zeros((len(Y_test_pred),2), dtype=float)\n",
    "Y_test_proba[:,0] = 1.-Y_test_pred[:,0]\n",
    "Y_test_proba[:,1] = Y_test_pred[:,0]"
   ]
  },
  {
   "cell_type": "code",
   "execution_count": null,
   "id": "7094c7e0-ac7e-46a5-adf2-5e9c4d064198",
   "metadata": {},
   "outputs": [],
   "source": [
    "from os.path import isdir\n",
    "from posix import mkdir"
   ]
  },
  {
   "cell_type": "code",
   "execution_count": null,
   "id": "f14f14bd-98a9-4707-85d8-9a75cec11102",
   "metadata": {},
   "outputs": [],
   "source": [
    "odir=\"totaccum_sediment_susc_frac_randn\"\n",
    "\n",
    "if not isdir(odir):\n",
    "    mkdir(odir)\n",
    "    \n",
    "ofile=odir + \"/NN_proba.pkl\"\n",
    "pickle.dump(Y_test_proba, open(ofile,\"wb\"))"
   ]
  },
  {
   "cell_type": "markdown",
   "id": "af2f0150-3816-4ba5-ad22-cac2bd965b72",
   "metadata": {},
   "source": [
    "Re-train using all the data:"
   ]
  },
  {
   "cell_type": "code",
   "execution_count": null,
   "id": "4c7bc330-8d13-4e3f-9435-5f836b5069ce",
   "metadata": {},
   "outputs": [],
   "source": [
    "X_train_s.shape, Y_train.shape"
   ]
  },
  {
   "cell_type": "markdown",
   "id": "41cb0c98-6adc-48f0-8581-928efde1279e",
   "metadata": {},
   "source": [
    "Merge training and testing set, and use to re-train model."
   ]
  },
  {
   "cell_type": "code",
   "execution_count": null,
   "id": "ec45c902-3122-421d-b1d8-f1c4da5e93f4",
   "metadata": {},
   "outputs": [],
   "source": [
    "X_traintest_s=np.append(X_train_s, X_test_s, axis=0)\n",
    "Y_traintest=np.append(Y_train, Y_test)\n",
    "print(X_traintest_s.shape, Y_traintest.shape)"
   ]
  },
  {
   "cell_type": "code",
   "execution_count": null,
   "id": "42d901db-5052-426c-8a4f-7e40aedf2f62",
   "metadata": {},
   "outputs": [],
   "source": [
    "modelp=getModel(len(use_feats), drop=0.275)"
   ]
  },
  {
   "cell_type": "code",
   "execution_count": null,
   "id": "57ee90c5-93a4-478d-848e-0eb5a4e14a0f",
   "metadata": {},
   "outputs": [],
   "source": [
    "optp = tf.keras.optimizers.Adam(learning_rate=0.001)\n",
    "modelp.compile(optimizer=optp, loss='binary_crossentropy',metrics=['accuracy','mae','BinaryIoU','AUC'])  #msle\n",
    "historyp = modelp.fit(X_traintest_s, Y_traintest, validation_split=0.0, epochs=1000, \n",
    "                    batch_size=100, verbose=0)"
   ]
  },
  {
   "cell_type": "code",
   "execution_count": null,
   "id": "7146c6bd-2899-414d-96b0-8925f378c8a9",
   "metadata": {},
   "outputs": [],
   "source": [
    "for key in historyp.history.keys():\n",
    "    print(key, historyp.history[key][-1])"
   ]
  },
  {
   "cell_type": "code",
   "execution_count": null,
   "id": "6eaa1861-46b1-4f02-960b-8ab58b1e3751",
   "metadata": {},
   "outputs": [],
   "source": [
    "Y_traintest_pred=modelp.predict(X_traintest_s)\n",
    "jaccard_score(Y_traintest, np.round(Y_traintest_pred)), roc_auc_score(Y_traintest, Y_traintest_pred)"
   ]
  },
  {
   "cell_type": "markdown",
   "id": "2075ff26-55cb-4d33-bb59-2b1880b14c3e",
   "metadata": {},
   "source": [
    "Save model for debris flow forecasting:"
   ]
  },
  {
   "cell_type": "code",
   "execution_count": null,
   "id": "168c12b8-99a9-4006-a732-047176033870",
   "metadata": {},
   "outputs": [],
   "source": [
    "modelp.save('NNp_11layer_minpars_accum_suscfrac_randn.h5')"
   ]
  },
  {
   "cell_type": "code",
   "execution_count": null,
   "id": "00abfd21-22b6-41ea-9827-e6f61227826d",
   "metadata": {},
   "outputs": [],
   "source": [
    "!md5sum *.h5"
   ]
  },
  {
   "cell_type": "code",
   "execution_count": null,
   "id": "a57f9365-87ea-4b09-8072-a814326bf0a8",
   "metadata": {},
   "outputs": [],
   "source": []
  }
 ],
 "metadata": {
  "kernelspec": {
   "display_name": "Python 3 (ipykernel)",
   "language": "python",
   "name": "python3"
  },
  "language_info": {
   "codemirror_mode": {
    "name": "ipython",
    "version": 3
   },
   "file_extension": ".py",
   "mimetype": "text/x-python",
   "name": "python",
   "nbconvert_exporter": "python",
   "pygments_lexer": "ipython3",
   "version": "3.8.10"
  }
 },
 "nbformat": 4,
 "nbformat_minor": 5
}
