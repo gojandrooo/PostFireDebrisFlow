{
 "cells": [
  {
   "cell_type": "markdown",
   "id": "35f24482-15cc-4b73-aab5-37926e2f67dc",
   "metadata": {},
   "source": [
    "# 5. Neural network trained on base and additional features.\n"
   ]
  },
  {
   "cell_type": "code",
   "execution_count": 1,
   "id": "ddcb12b9-b132-48e0-a999-d1e4811fc437",
   "metadata": {},
   "outputs": [
    {
     "name": "stderr",
     "output_type": "stream",
     "text": [
      "2023-03-17 00:29:04.106266: W tensorflow/stream_executor/platform/default/dso_loader.cc:64] Could not load dynamic library 'libcudart.so.11.0'; dlerror: libcudart.so.11.0: cannot open shared object file: No such file or directory\n",
      "2023-03-17 00:29:04.106309: I tensorflow/stream_executor/cuda/cudart_stub.cc:29] Ignore above cudart dlerror if you do not have a GPU set up on your machine.\n"
     ]
    }
   ],
   "source": [
    "from numpy.random import seed\n",
    "seed(1)\n",
    "from tensorflow.keras.utils import set_random_seed\n",
    "set_random_seed(2)"
   ]
  },
  {
   "cell_type": "code",
   "execution_count": 2,
   "id": "328bd076-4e0e-4c8e-a858-fbbbf2aa7b11",
   "metadata": {},
   "outputs": [],
   "source": [
    "import pandas as pd\n",
    "import numpy as np\n",
    "import pickle"
   ]
  },
  {
   "cell_type": "code",
   "execution_count": 3,
   "id": "c462949a-e422-42a3-83f5-7f7ee80543c9",
   "metadata": {},
   "outputs": [],
   "source": [
    "from sklearn.model_selection import train_test_split, GridSearchCV\n",
    "from sklearn.metrics import accuracy_score, f1_score, jaccard_score, roc_auc_score\n",
    "from sklearn.preprocessing import StandardScaler\n",
    "from sklearn.model_selection import GridSearchCV\n",
    "import matplotlib.pyplot as plt\n",
    "plt.style.use('dark_background')"
   ]
  },
  {
   "cell_type": "code",
   "execution_count": 3,
   "id": "0e3d8fb6-5ccd-4841-bb06-abd764cb041f",
   "metadata": {},
   "outputs": [],
   "source": [
    "from keras import Sequential, layers, models"
   ]
  },
  {
   "cell_type": "code",
   "execution_count": 5,
   "id": "b242e0f5-c414-4584-b175-c62931714d7c",
   "metadata": {},
   "outputs": [
    {
     "data": {
      "text/plain": [
       "((982, 10), (982,), (261, 10), (261,))"
      ]
     },
     "execution_count": 5,
     "metadata": {},
     "output_type": "execute_result"
    }
   ],
   "source": [
    "X_train, Y_train, X_test, Y_test=pickle.load(open(\"staley16+addtl_feats_split.pkl\",\"rb\"))\n",
    "X_train.shape, Y_train.shape, X_test.shape, Y_test.shape"
   ]
  },
  {
   "cell_type": "code",
   "execution_count": 7,
   "id": "366296a3-2aef-43fd-a3e8-1c0e599e524d",
   "metadata": {},
   "outputs": [
    {
     "data": {
      "text/plain": [
       "Index(['stormdur_h', 'stormaccum_mm', 'peak_i15_mmh', 'logarea',\n",
       "       'contributingarea_km2', 'prophm23', 'dnbr1000', 'kf', 'SedUn',\n",
       "       'SuscFrac'],\n",
       "      dtype='object')"
      ]
     },
     "execution_count": 7,
     "metadata": {},
     "output_type": "execute_result"
    }
   ],
   "source": [
    "use_feats=X_train.columns\n",
    "use_feats"
   ]
  },
  {
   "cell_type": "code",
   "execution_count": 8,
   "id": "1c0ca19d-6c9d-4a69-9b34-a243a08a72de",
   "metadata": {},
   "outputs": [
    {
     "name": "stdout",
     "output_type": "stream",
     "text": [
      "Using 10 out of 10 features\n"
     ]
    },
    {
     "data": {
      "text/plain": [
       "Index(['stormdur_h', 'stormaccum_mm', 'peak_i15_mmh', 'logarea',\n",
       "       'contributingarea_km2', 'prophm23', 'dnbr1000', 'kf', 'SedUn',\n",
       "       'SuscFrac'],\n",
       "      dtype='object')"
      ]
     },
     "execution_count": 8,
     "metadata": {},
     "output_type": "execute_result"
    }
   ],
   "source": [
    "print(\"Using %d out of %d features\" % (len(use_feats), len(X_train.columns)))\n",
    "use_feats"
   ]
  },
  {
   "cell_type": "code",
   "execution_count": 9,
   "id": "3c125dac-8b99-46e8-8507-e2185df0e3d0",
   "metadata": {},
   "outputs": [],
   "source": [
    "import pickle"
   ]
  },
  {
   "cell_type": "code",
   "execution_count": 12,
   "id": "01e74bfa-15e9-4ada-8a1d-2da281da089d",
   "metadata": {},
   "outputs": [
    {
     "name": "stdout",
     "output_type": "stream",
     "text": [
      "(982, 10) (261, 10)\n"
     ]
    }
   ],
   "source": [
    "ssc=pickle.load(open(\"feature_scaler.pkl\", \"rb\"))\n",
    "X_train_s=ssc.transform(X_train[use_feats])\n",
    "X_test_s=ssc.transform(X_test[use_feats])\n",
    "print(X_train_s.shape, X_test_s.shape)\n",
    "pickle.dump(ssc, open(\"NN_standard_scaler_minpars_accum_suscfrac_nosteep_randn.pkl\", \"wb\"))"
   ]
  },
  {
   "cell_type": "code",
   "execution_count": 13,
   "id": "57cf317a-f617-4347-bdc7-97c5b013afea",
   "metadata": {},
   "outputs": [],
   "source": [
    "def getModel(nins, drop=0.3):\n",
    "    inputs = layers.Input(shape=(nins,))\n",
    "    \n",
    "    x = layers.Dense(32, activation=None, kernel_initializer='glorot_normal')(inputs)\n",
    "    x = layers.BatchNormalization()(x)\n",
    "    x = layers.Activation('relu')(x)    \n",
    "    x = layers.Dropout(drop)(x) #.1\n",
    "    \n",
    "    x = layers.Dense(48, activation=None, kernel_initializer='glorot_normal')(x)\n",
    "    x = layers.BatchNormalization()(x)\n",
    "    x = layers.Activation('tanh')(x)    \n",
    "    x = layers.Dropout(drop)(x)       #.1   \n",
    "    \n",
    "    x = layers.Dense(92, activation=None, kernel_initializer='glorot_normal')(x)\n",
    "    x = layers.BatchNormalization()(x)\n",
    "    x = layers.Activation('relu')(x)    \n",
    "    x = layers.Dropout(drop)(x)       #.1\n",
    "        \n",
    "    x = layers.Dense(196, activation=None, kernel_initializer='glorot_normal')(x)\n",
    "    x = layers.BatchNormalization()(x)\n",
    "    x = layers.Activation('tanh')(x)    \n",
    "    x = layers.Dropout(drop)(x)       #.1\n",
    "    \n",
    "    x = layers.Dense(392, activation=None, kernel_initializer='glorot_normal')(x)\n",
    "    x = layers.BatchNormalization()(x)\n",
    "    x = layers.Activation('relu')(x)    \n",
    "    x = layers.Dropout(drop)(x)       #.1\n",
    "    \n",
    "    x = layers.Dense(196, activation=None, kernel_initializer='glorot_normal')(x)\n",
    "    x = layers.BatchNormalization()(x)\n",
    "    x = layers.Activation('tanh')(x)    \n",
    "    x = layers.Dropout(drop)(x)       #.1\n",
    "    \n",
    "    x = layers.Dense(92, activation=None, kernel_initializer='glorot_normal')(x)\n",
    "    x = layers.BatchNormalization()(x)\n",
    "    x = layers.Activation('relu')(x)    \n",
    "    x = layers.Dropout(drop)(x)   \n",
    "    \n",
    "    x = layers.Dense(48, activation=None, kernel_initializer='glorot_normal')(x)\n",
    "    x = layers.BatchNormalization()(x)\n",
    "    x = layers.Activation('tanh')(x)    \n",
    "    x = layers.Dropout(drop)(x)       #.1\n",
    "    \n",
    "    x = layers.Dense(32, activation=None, kernel_initializer='glorot_normal')(x)\n",
    "    x = layers.BatchNormalization()(x)\n",
    "    x = layers.Activation('relu')(x)     \n",
    "    x = layers.Dropout(drop/2)(x) #.05\n",
    "    \n",
    "    x = layers.Dense(16, activation=None, kernel_initializer='glorot_normal')(x)\n",
    "    x = layers.BatchNormalization()(x)\n",
    "    x = layers.Activation('tanh')(x)    \n",
    "    #x = layers.Dropout(0.05)(x)\n",
    "    \n",
    "    x = layers.Dense(8, activation=None, kernel_initializer='glorot_normal')(x)\n",
    "    x = layers.BatchNormalization()(x)\n",
    "    x = layers.Activation('relu')(x)    \n",
    "    #x = layers.Dropout(drop/8)(x)\n",
    "    predictions = layers.Dense(1, activation='sigmoid')(x)\n",
    "    \n",
    "    model = models.Model(inputs=inputs, outputs=predictions)\n",
    "    return model"
   ]
  },
  {
   "cell_type": "code",
   "execution_count": 14,
   "id": "b11be4b9-7126-4d5d-892d-6cdcd2ecc488",
   "metadata": {},
   "outputs": [
    {
     "name": "stderr",
     "output_type": "stream",
     "text": [
      "2023-03-17 00:30:35.160055: W tensorflow/stream_executor/platform/default/dso_loader.cc:64] Could not load dynamic library 'libcuda.so.1'; dlerror: libcuda.so.1: cannot open shared object file: No such file or directory\n",
      "2023-03-17 00:30:35.160095: W tensorflow/stream_executor/cuda/cuda_driver.cc:269] failed call to cuInit: UNKNOWN ERROR (303)\n",
      "2023-03-17 00:30:35.160130: I tensorflow/stream_executor/cuda/cuda_diagnostics.cc:156] kernel driver does not appear to be running on this host (83422072b6d9): /proc/driver/nvidia/version does not exist\n"
     ]
    }
   ],
   "source": [
    "model=getModel(len(use_feats), drop=0.275)"
   ]
  },
  {
   "cell_type": "code",
   "execution_count": 15,
   "id": "38409902-8099-40e3-a3ce-d666a695bfbc",
   "metadata": {},
   "outputs": [],
   "source": [
    "import tensorflow as tf"
   ]
  },
  {
   "cell_type": "code",
   "execution_count": null,
   "id": "323bdc1a-aad9-4986-8e89-55bf5e128aed",
   "metadata": {
    "tags": []
   },
   "outputs": [],
   "source": [
    "%%time\n",
    "opt = tf.keras.optimizers.Adam(learning_rate=0.001)\n",
    "model.compile(optimizer=opt, loss='binary_crossentropy',metrics=['accuracy','mae','BinaryIoU','AUC'])  #msle\n",
    "history = model.fit(X_train_s, Y_train, validation_split=0.0, epochs=1000, \n",
    "                    batch_size=100, verbose=0)"
   ]
  },
  {
   "cell_type": "code",
   "execution_count": 16,
   "id": "168e3b6d-4adc-4455-a04b-8b332973a6e0",
   "metadata": {
    "tags": []
   },
   "outputs": [
    {
     "name": "stdout",
     "output_type": "stream",
     "text": [
      "loss 0.27733027935028076\n",
      "accuracy 0.8645620942115784\n",
      "mae 0.1748506724834442\n",
      "binary_io_u 0.7106822729110718\n",
      "auc 0.9373681545257568\n"
     ]
    }
   ],
   "source": [
    "for key in history.history.keys():\n",
    "    print(key, history.history[key][-1])"
   ]
  },
  {
   "cell_type": "code",
   "execution_count": 17,
   "id": "2b74c89f-47fe-48d5-a18c-7d3f3e9f2dca",
   "metadata": {},
   "outputs": [
    {
     "data": {
      "text/plain": [
       "<matplotlib.legend.Legend at 0x7fe308065be0>"
      ]
     },
     "execution_count": 17,
     "metadata": {},
     "output_type": "execute_result"
    },
    {
     "data": {
      "image/png": "[encoded data removed]",
      "text/plain": [
       "<Figure size 864x216 with 3 Axes>"
      ]
     },
     "metadata": {
      "needs_background": "dark"
     },
     "output_type": "display_data"
    }
   ],
   "source": [
    "fig,ax=plt.subplots(ncols=3, figsize=(12,3))\n",
    "\n",
    "for n,metric in enumerate([\"loss\", \"mae\", \"binary_io_u\"]):\n",
    "    ax[n].plot(history.history[metric], label='train')\n",
    "    #ax[n].plot(history.history[\"val_\" + metric], label='test')\n",
    "    ax[n].set_title(metric)\n",
    "ax[0].legend()"
   ]
  },
  {
   "cell_type": "code",
   "execution_count": 18,
   "id": "ece453b9-38b9-40a8-b5eb-038c4307da5f",
   "metadata": {},
   "outputs": [
    {
     "name": "stdout",
     "output_type": "stream",
     "text": [
      "31/31 [==============================] - 0s 2ms/step\n"
     ]
    }
   ],
   "source": [
    "Y_train_pred=model.predict(X_train_s)"
   ]
  },
  {
   "cell_type": "code",
   "execution_count": 24,
   "id": "ffbe2d8b-d382-446b-833b-d4868ce20a98",
   "metadata": {},
   "outputs": [
    {
     "data": {
      "text/plain": [
       "(0.7483870967741936, 0.9795025833302485)"
      ]
     },
     "execution_count": 24,
     "metadata": {},
     "output_type": "execute_result"
    }
   ],
   "source": [
    "jaccard_score(Y_train, np.round(Y_train_pred)), roc_auc_score(Y_train, Y_train_pred)\n",
    "#print(accuracy_score(Y_train, np.round(Y_train_pred)))"
   ]
  },
  {
   "cell_type": "code",
   "execution_count": 25,
   "id": "b737defc-72eb-47a8-ae13-65bfffb334df",
   "metadata": {},
   "outputs": [
    {
     "name": "stdout",
     "output_type": "stream",
     "text": [
      "9/9 [==============================] - 0s 4ms/step\n"
     ]
    }
   ],
   "source": [
    "Y_test_pred=model.predict(X_test_s)"
   ]
  },
  {
   "cell_type": "code",
   "execution_count": 26,
   "id": "d130c758-1f06-4c3f-949a-beaafed4a538",
   "metadata": {},
   "outputs": [
    {
     "data": {
      "text/plain": [
       "(0.5416666666666666, 0.9217162554426706)"
      ]
     },
     "execution_count": 26,
     "metadata": {},
     "output_type": "execute_result"
    }
   ],
   "source": [
    "jaccard_score(Y_test, np.round(Y_test_pred)), roc_auc_score(Y_test, Y_test_pred)"
   ]
  },
  {
   "cell_type": "code",
   "execution_count": 27,
   "id": "e6bd95b2-1a18-4f4c-8fcf-b16d7090dc8c",
   "metadata": {},
   "outputs": [],
   "source": [
    "from sklearn.metrics import roc_curve, RocCurveDisplay"
   ]
  },
  {
   "cell_type": "code",
   "execution_count": 28,
   "id": "7cfb5a93-d328-4adb-b700-9eb4a4ae8cba",
   "metadata": {
    "tags": []
   },
   "outputs": [
    {
     "data": {
      "text/plain": [
       "<sklearn.metrics._plot.roc_curve.RocCurveDisplay at 0x7fe2d8330f40>"
      ]
     },
     "execution_count": 28,
     "metadata": {},
     "output_type": "execute_result"
    },
    {
     "data": {
      "image/png": "[encoded data removed]",
      "text/plain": [
       "<Figure size 432x288 with 1 Axes>"
      ]
     },
     "metadata": {
      "needs_background": "dark"
     },
     "output_type": "display_data"
    }
   ],
   "source": [
    "fig,ax=plt.subplots()\n",
    "RocCurveDisplay.from_predictions(Y_train, Y_train_pred, ax=ax, linewidth=1, \n",
    "                                 color='red', name='train', linestyle=\"dashed\")\n",
    "RocCurveDisplay.from_predictions(Y_test, Y_test_pred, ax=ax, linewidth=1, color='yellow', name='test')"
   ]
  },
  {
   "cell_type": "code",
   "execution_count": 29,
   "id": "b7ba5874-864e-4a47-855a-a877531cd9d1",
   "metadata": {},
   "outputs": [],
   "source": [
    "Y_test_proba=np.zeros((len(Y_test_pred),2), dtype=float)\n",
    "Y_test_proba[:,0] = 1.-Y_test_pred[:,0]\n",
    "Y_test_proba[:,1] = Y_test_pred[:,0]"
   ]
  },
  {
   "cell_type": "code",
   "execution_count": 30,
   "id": "f14f14bd-98a9-4707-85d8-9a75cec11102",
   "metadata": {},
   "outputs": [],
   "source": [
    "odir=\"totaccum_sediment_susc_frac_randn\"\n",
    "ofile=odir + \"/NN_proba.pkl\"\n",
    "pickle.dump(Y_test_proba, open(ofile,\"wb\"))"
   ]
  },
  {
   "cell_type": "code",
   "execution_count": 31,
   "id": "66557a24-6d94-465b-84d0-a91a3d1623e8",
   "metadata": {},
   "outputs": [
    {
     "name": "stdout",
     "output_type": "stream",
     "text": [
      "total 60\n",
      "-rw-r--r-- 1 droten droten 4329 Aug 27 22:34 'Gradient Boosting_proba.pkl'\n",
      "-rw-r--r-- 1 droten droten 4329 Aug 27 22:34 'K-Nearest Neighbors_proba.pkl'\n",
      "-rw-r--r-- 1 droten droten 4329 Aug 27 22:34 'Logistic Regression_proba.pkl'\n",
      "-rw-r--r-- 1 droten droten 4329 Aug 27 23:17  NN_proba.pkl\n",
      "-rw-r--r-- 1 droten droten 4329 Aug 27 22:34 'Naive Bayes_proba.pkl'\n",
      "-rw-r--r-- 1 droten droten 4329 Aug 27 22:34 'Random Forest_proba.pkl'\n",
      "-rw-r--r-- 1 droten droten 4329 Aug 27 22:34  SVC_proba.pkl\n",
      "-rw-r--r-- 1 droten droten 2239 Aug 27 22:34 'Staley (2016)_proba.pkl'\n"
     ]
    }
   ],
   "source": [
    "!ls -l $odir"
   ]
  },
  {
   "cell_type": "markdown",
   "id": "af2f0150-3816-4ba5-ad22-cac2bd965b72",
   "metadata": {},
   "source": [
    "Re-train using all the data:"
   ]
  },
  {
   "cell_type": "code",
   "execution_count": 54,
   "id": "4c7bc330-8d13-4e3f-9435-5f836b5069ce",
   "metadata": {},
   "outputs": [
    {
     "data": {
      "text/plain": [
       "((982, 10), (982,))"
      ]
     },
     "execution_count": 54,
     "metadata": {},
     "output_type": "execute_result"
    }
   ],
   "source": [
    "X_train_s.shape, Y_train.shape"
   ]
  },
  {
   "cell_type": "markdown",
   "id": "41cb0c98-6adc-48f0-8581-928efde1279e",
   "metadata": {},
   "source": [
    "Merge training and testing set, and use to re-train model."
   ]
  },
  {
   "cell_type": "code",
   "execution_count": 53,
   "id": "ec45c902-3122-421d-b1d8-f1c4da5e93f4",
   "metadata": {},
   "outputs": [
    {
     "name": "stdout",
     "output_type": "stream",
     "text": [
      "(1243, 10) (1243,)\n"
     ]
    }
   ],
   "source": [
    "X_traintest_s=np.append(X_train_s, X_test_s, axis=0)\n",
    "Y_traintest=np.append(Y_train, Y_test)\n",
    "print(X_traintest_s.shape, Y_traintest.shape)"
   ]
  },
  {
   "cell_type": "code",
   "execution_count": 62,
   "id": "42d901db-5052-426c-8a4f-7e40aedf2f62",
   "metadata": {},
   "outputs": [],
   "source": [
    "modelp=getModel(len(use_feats), drop=0.275)"
   ]
  },
  {
   "cell_type": "code",
   "execution_count": 63,
   "id": "57ee90c5-93a4-478d-848e-0eb5a4e14a0f",
   "metadata": {},
   "outputs": [],
   "source": [
    "optp = tf.keras.optimizers.Adam(learning_rate=0.001)\n",
    "modelp.compile(optimizer=optp, loss='binary_crossentropy',metrics=['accuracy','mae','BinaryIoU','AUC'])  #msle\n",
    "historyp = modelp.fit(X_traintest_s, Y_traintest, validation_split=0.0, epochs=1000, \n",
    "                    batch_size=100, verbose=0)"
   ]
  },
  {
   "cell_type": "code",
   "execution_count": 64,
   "id": "7146c6bd-2899-414d-96b0-8925f378c8a9",
   "metadata": {},
   "outputs": [
    {
     "name": "stdout",
     "output_type": "stream",
     "text": [
      "loss 0.24757428467273712\n",
      "accuracy 0.8825422525405884\n",
      "mae 0.1641954630613327\n",
      "binary_io_u 0.7355458736419678\n",
      "auc 0.9497954845428467\n"
     ]
    }
   ],
   "source": [
    "for key in historyp.history.keys():\n",
    "    print(key, historyp.history[key][-1])"
   ]
  },
  {
   "cell_type": "code",
   "execution_count": 65,
   "id": "6eaa1861-46b1-4f02-960b-8ab58b1e3751",
   "metadata": {},
   "outputs": [
    {
     "name": "stdout",
     "output_type": "stream",
     "text": [
      "39/39 [==============================] - 1s 5ms/step\n"
     ]
    },
    {
     "data": {
      "text/plain": [
       "(0.7308781869688386, 0.9758527576365845)"
      ]
     },
     "execution_count": 65,
     "metadata": {},
     "output_type": "execute_result"
    }
   ],
   "source": [
    "Y_traintest_pred=modelp.predict(X_traintest_s)\n",
    "jaccard_score(Y_traintest, np.round(Y_traintest_pred)), roc_auc_score(Y_traintest, Y_traintest_pred)"
   ]
  },
  {
   "cell_type": "markdown",
   "id": "2075ff26-55cb-4d33-bb59-2b1880b14c3e",
   "metadata": {},
   "source": [
    "Save model for debris flow forecasting:"
   ]
  },
  {
   "cell_type": "code",
   "execution_count": 59,
   "id": "168c12b8-99a9-4006-a732-047176033870",
   "metadata": {},
   "outputs": [],
   "source": [
    "modelp.save('NNp_11layer_minpars_accum_suscfrac_randn.h5')"
   ]
  },
  {
   "cell_type": "code",
   "execution_count": 35,
   "id": "00abfd21-22b6-41ea-9827-e6f61227826d",
   "metadata": {},
   "outputs": [
    {
     "name": "stdout",
     "output_type": "stream",
     "text": [
      "3c1a51bcdcf2b8caaee3637de6a30ecd  NN_11layer_minpars_accum_suscfrac_randn.h5\n"
     ]
    }
   ],
   "source": [
    "!md5sum *.h5"
   ]
  }
 ],
 "metadata": {
  "kernelspec": {
   "display_name": "Python 3 (ipykernel)",
   "language": "python",
   "name": "python3"
  },
  "language_info": {
   "codemirror_mode": {
    "name": "ipython",
    "version": 3
   },
   "file_extension": ".py",
   "mimetype": "text/x-python",
   "name": "python",
   "nbconvert_exporter": "python",
   "pygments_lexer": "ipython3",
   "version": "3.8.10"
  }
 },
 "nbformat": 4,
 "nbformat_minor": 5
}
