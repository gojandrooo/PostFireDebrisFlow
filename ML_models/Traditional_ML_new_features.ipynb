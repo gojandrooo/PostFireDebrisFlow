{
 "cells": [
  {
   "cell_type": "markdown",
   "id": "02009ac5-3a41-4bed-af33-52f410e332b6",
   "metadata": {},
   "source": [
    "# 2. Traditional ML models, trained with new features.\n",
    "\n",
    "Retraining ML model using 6 features from Staley model (those available from USGS shapefiles) \n",
    "\n",
    "- I15, total accumulation, storm duration, Area, PropHM23, dNBR1000, KF\n",
    "\n",
    "and three new features:\n",
    "\n",
    "- fraction of unconsolidated and sedimentary rocks (`SedUn`)\n",
    "- fraction of susceptible vegetation types (`SuscFrac`)\n",
    "- Fine fuel load\n",
    "\n"
   ]
  },
  {
   "cell_type": "code",
   "execution_count": 90,
   "id": "8426412a",
   "metadata": {},
   "outputs": [],
   "source": [
    "import pandas as pd\n",
    "pd.set_option(\"max_colwidth\", 50)\n",
    "import pickle\n",
    "import numpy as np"
   ]
  },
  {
   "cell_type": "code",
   "execution_count": 91,
   "id": "c3754c45-bd64-46e6-9df8-2bbf21df697c",
   "metadata": {},
   "outputs": [],
   "source": [
    "trainX, trainY, testX, testY = pickle.load(open(\"staley16+addtl_feats_split.pkl\",\"rb\"))"
   ]
  },
  {
   "cell_type": "code",
   "execution_count": 92,
   "id": "2001d475-61a4-490d-9699-12815d426299",
   "metadata": {},
   "outputs": [
    {
     "data": {
      "text/plain": [
       "Index(['stormdur_h', 'stormaccum_mm', 'peak_i15_mmh', 'contributingarea_km2',\n",
       "       'prophm23', 'dnbr1000', 'kf', 'SedUn', 'SuscFrac', 'Fine fuel load'],\n",
       "      dtype='object')"
      ]
     },
     "execution_count": 92,
     "metadata": {},
     "output_type": "execute_result"
    }
   ],
   "source": [
    "trainX.columns"
   ]
  },
  {
   "cell_type": "markdown",
   "id": "f9f298f2-1855-42cc-b63f-018c546a4a5d",
   "metadata": {},
   "source": [
    "Reduce to features from Staley's model only:"
   ]
  },
  {
   "cell_type": "markdown",
   "id": "7d64d1a7-6d3a-4786-8cfc-5a9091443230",
   "metadata": {},
   "source": [
    "If `Fine fuel load` is not in the dataframe, rerun the [feature preparation](Feat_prep_and_split.ipynb) notebook, as it has changed."
   ]
  },
  {
   "cell_type": "code",
   "execution_count": 93,
   "id": "73a9f93b-d1cc-44bc-bb4f-0f703dd31901",
   "metadata": {},
   "outputs": [],
   "source": [
    "use_feats = trainX.columns"
   ]
  },
  {
   "cell_type": "code",
   "execution_count": 94,
   "id": "e93d199f-3388-417b-8d19-e39add40220f",
   "metadata": {},
   "outputs": [
    {
     "data": {
      "text/plain": [
       "((984, 10), (257, 10), (984,), (257,))"
      ]
     },
     "execution_count": 94,
     "metadata": {},
     "output_type": "execute_result"
    }
   ],
   "source": [
    "trainX.shape, testX.shape, trainY.shape, testY.shape"
   ]
  },
  {
   "cell_type": "code",
   "execution_count": 95,
   "id": "d5e308ff-28b0-49b5-ab1e-23f072dac63d",
   "metadata": {},
   "outputs": [],
   "source": [
    "#pd.concat([trainX, testX]).describe()"
   ]
  },
  {
   "cell_type": "code",
   "execution_count": 96,
   "id": "507eaa18",
   "metadata": {},
   "outputs": [],
   "source": [
    "from sklearn.neighbors import KNeighborsClassifier, DistanceMetric\n",
    "from sklearn.metrics import accuracy_score, f1_score, jaccard_score, roc_auc_score\n",
    "from sklearn.tree import DecisionTreeClassifier, export_graphviz\n",
    "from sklearn.linear_model import LogisticRegression\n",
    "from sklearn.ensemble import RandomForestClassifier"
   ]
  },
  {
   "cell_type": "markdown",
   "id": "c2728ccf-90df-4992-b34d-0bf408cd8e53",
   "metadata": {},
   "source": [
    "Function to get score for given classifier, and save into dataframe:"
   ]
  },
  {
   "cell_type": "code",
   "execution_count": 97,
   "id": "86cc8dbb",
   "metadata": {},
   "outputs": [],
   "source": [
    "def get_scores(trues, probs):\n",
    "    scores=[func(trues, np.round(probs[:,1])) for func in [accuracy_score, jaccard_score, f1_score]]\n",
    "    scores.append(roc_auc_score(trues, probs[:,1]))\n",
    "    return scores\n",
    "\n",
    "def get_scoredf(TrTr, TrPr, TeTr, TePr):\n",
    "    train_scores=get_scores(TrTr, TrPr)\n",
    "    test_scores=get_scores(TeTr, TePr)\n",
    "    \n",
    "    scoredf=pd.DataFrame({\"Training\": train_scores, \"Test\": test_scores}, \n",
    "                         index=[\"Accurary\", \"Jaccard\", \"F1\", \"AUC\"])\n",
    "    return scoredf"
   ]
  },
  {
   "cell_type": "code",
   "execution_count": 98,
   "id": "bc781b9d",
   "metadata": {},
   "outputs": [
    {
     "data": {
      "text/html": [
       "<div>\n",
       "<style scoped>\n",
       "    .dataframe tbody tr th:only-of-type {\n",
       "        vertical-align: middle;\n",
       "    }\n",
       "\n",
       "    .dataframe tbody tr th {\n",
       "        vertical-align: top;\n",
       "    }\n",
       "\n",
       "    .dataframe thead th {\n",
       "        text-align: right;\n",
       "    }\n",
       "</style>\n",
       "<table border=\"1\" class=\"dataframe\">\n",
       "  <thead>\n",
       "    <tr style=\"text-align: right;\">\n",
       "      <th></th>\n",
       "      <th>Training</th>\n",
       "      <th>Test</th>\n",
       "    </tr>\n",
       "  </thead>\n",
       "  <tbody>\n",
       "    <tr>\n",
       "      <th>Accurary</th>\n",
       "      <td>0.907520</td>\n",
       "      <td>0.836576</td>\n",
       "    </tr>\n",
       "    <tr>\n",
       "      <th>Jaccard</th>\n",
       "      <td>0.682927</td>\n",
       "      <td>0.454545</td>\n",
       "    </tr>\n",
       "    <tr>\n",
       "      <th>F1</th>\n",
       "      <td>0.811594</td>\n",
       "      <td>0.625000</td>\n",
       "    </tr>\n",
       "    <tr>\n",
       "      <th>AUC</th>\n",
       "      <td>0.974912</td>\n",
       "      <td>0.834000</td>\n",
       "    </tr>\n",
       "  </tbody>\n",
       "</table>\n",
       "</div>"
      ],
      "text/plain": [
       "          Training      Test\n",
       "Accurary  0.907520  0.836576\n",
       "Jaccard   0.682927  0.454545\n",
       "F1        0.811594  0.625000\n",
       "AUC       0.974912  0.834000"
      ]
     },
     "execution_count": 98,
     "metadata": {},
     "output_type": "execute_result"
    }
   ],
   "source": [
    "select_criterion=\"entropy\"\n",
    "clfp=DecisionTreeClassifier(criterion=select_criterion, max_depth=8)\n",
    "\n",
    "clfp.fit(trainX, trainY)\n",
    "trainYp=clfp.predict_proba(trainX)\n",
    "testYp=clfp.predict_proba(testX)\n",
    "\n",
    "scoredf_dt=get_scoredf(trainY, trainYp, testY, testYp)\n",
    "scoredf_dt"
   ]
  },
  {
   "cell_type": "markdown",
   "id": "69129ea8-6b1b-449b-a728-0f98dc3885db",
   "metadata": {},
   "source": [
    "Testing different ML models:"
   ]
  },
  {
   "cell_type": "code",
   "execution_count": 99,
   "id": "43bc7c02",
   "metadata": {},
   "outputs": [
    {
     "data": {
      "text/html": [
       "<div>\n",
       "<style scoped>\n",
       "    .dataframe tbody tr th:only-of-type {\n",
       "        vertical-align: middle;\n",
       "    }\n",
       "\n",
       "    .dataframe tbody tr th {\n",
       "        vertical-align: top;\n",
       "    }\n",
       "\n",
       "    .dataframe thead th {\n",
       "        text-align: right;\n",
       "    }\n",
       "</style>\n",
       "<table border=\"1\" class=\"dataframe\">\n",
       "  <thead>\n",
       "    <tr style=\"text-align: right;\">\n",
       "      <th></th>\n",
       "      <th>Training</th>\n",
       "      <th>Test</th>\n",
       "    </tr>\n",
       "  </thead>\n",
       "  <tbody>\n",
       "    <tr>\n",
       "      <th>Accurary</th>\n",
       "      <td>0.792683</td>\n",
       "      <td>0.840467</td>\n",
       "    </tr>\n",
       "    <tr>\n",
       "      <th>Jaccard</th>\n",
       "      <td>0.346154</td>\n",
       "      <td>0.405797</td>\n",
       "    </tr>\n",
       "    <tr>\n",
       "      <th>F1</th>\n",
       "      <td>0.514286</td>\n",
       "      <td>0.577320</td>\n",
       "    </tr>\n",
       "    <tr>\n",
       "      <th>AUC</th>\n",
       "      <td>0.839333</td>\n",
       "      <td>0.858475</td>\n",
       "    </tr>\n",
       "  </tbody>\n",
       "</table>\n",
       "</div>"
      ],
      "text/plain": [
       "          Training      Test\n",
       "Accurary  0.792683  0.840467\n",
       "Jaccard   0.346154  0.405797\n",
       "F1        0.514286  0.577320\n",
       "AUC       0.839333  0.858475"
      ]
     },
     "execution_count": 99,
     "metadata": {},
     "output_type": "execute_result"
    }
   ],
   "source": [
    "clfl = LogisticRegression(random_state=0, max_iter=10000).fit(trainX, trainY)\n",
    "trainYp=clfl.predict_proba(trainX)\n",
    "testYp=clfl.predict_proba(testX)\n",
    "\n",
    "scoredf_lr=get_scoredf(trainY, trainYp, testY, testYp)\n",
    "scoredf_lr"
   ]
  },
  {
   "cell_type": "code",
   "execution_count": 100,
   "id": "40749aa8-cbd0-4838-8085-77a462239ea5",
   "metadata": {},
   "outputs": [
    {
     "data": {
      "text/html": [
       "<div>\n",
       "<style scoped>\n",
       "    .dataframe tbody tr th:only-of-type {\n",
       "        vertical-align: middle;\n",
       "    }\n",
       "\n",
       "    .dataframe tbody tr th {\n",
       "        vertical-align: top;\n",
       "    }\n",
       "\n",
       "    .dataframe thead th {\n",
       "        text-align: right;\n",
       "    }\n",
       "</style>\n",
       "<table border=\"1\" class=\"dataframe\">\n",
       "  <thead>\n",
       "    <tr style=\"text-align: right;\">\n",
       "      <th></th>\n",
       "      <th>Training</th>\n",
       "      <th>Test</th>\n",
       "    </tr>\n",
       "  </thead>\n",
       "  <tbody>\n",
       "    <tr>\n",
       "      <th>Accurary</th>\n",
       "      <td>1.0</td>\n",
       "      <td>0.871595</td>\n",
       "    </tr>\n",
       "    <tr>\n",
       "      <th>Jaccard</th>\n",
       "      <td>1.0</td>\n",
       "      <td>0.528571</td>\n",
       "    </tr>\n",
       "    <tr>\n",
       "      <th>F1</th>\n",
       "      <td>1.0</td>\n",
       "      <td>0.691589</td>\n",
       "    </tr>\n",
       "    <tr>\n",
       "      <th>AUC</th>\n",
       "      <td>1.0</td>\n",
       "      <td>0.933547</td>\n",
       "    </tr>\n",
       "  </tbody>\n",
       "</table>\n",
       "</div>"
      ],
      "text/plain": [
       "          Training      Test\n",
       "Accurary       1.0  0.871595\n",
       "Jaccard        1.0  0.528571\n",
       "F1             1.0  0.691589\n",
       "AUC            1.0  0.933547"
      ]
     },
     "execution_count": 100,
     "metadata": {},
     "output_type": "execute_result"
    }
   ],
   "source": [
    "rfdpt=20\n",
    "clff = RandomForestClassifier(max_depth=rfdpt, random_state=0, criterion=\"entropy\")\n",
    "\n",
    "clff.fit(trainX, trainY)\n",
    "trainYp=clff.predict_proba(trainX)\n",
    "testYp=clff.predict_proba(testX)\n",
    "\n",
    "scoredf_rf=get_scoredf(trainY, trainYp, testY, testYp)\n",
    "scoredf_rf"
   ]
  },
  {
   "cell_type": "code",
   "execution_count": 101,
   "id": "17e84d78",
   "metadata": {},
   "outputs": [],
   "source": [
    "from sklearn.svm import SVC\n",
    "from sklearn.preprocessing import StandardScaler\n",
    "from sklearn.pipeline import make_pipeline"
   ]
  },
  {
   "cell_type": "markdown",
   "id": "1f446f11-ed03-42f5-a22b-5ad350121928",
   "metadata": {},
   "source": [
    "The models below benefit from scaling the features:"
   ]
  },
  {
   "cell_type": "code",
   "execution_count": 102,
   "id": "d9f1cbee-2b73-435b-8724-5993def972cc",
   "metadata": {},
   "outputs": [],
   "source": [
    "ssc=pickle.load(open(\"feature_scaler.pkl\", \"rb\"))\n",
    "trainX_s=pd.DataFrame(ssc.transform(trainX), columns=trainX.columns)\n",
    "testX_s=pd.DataFrame(ssc.transform(testX), columns=testX.columns)"
   ]
  },
  {
   "cell_type": "code",
   "execution_count": 103,
   "id": "5b40602b-a389-4501-a895-92fe170170a9",
   "metadata": {},
   "outputs": [
    {
     "data": {
      "text/html": [
       "<div>\n",
       "<style scoped>\n",
       "    .dataframe tbody tr th:only-of-type {\n",
       "        vertical-align: middle;\n",
       "    }\n",
       "\n",
       "    .dataframe tbody tr th {\n",
       "        vertical-align: top;\n",
       "    }\n",
       "\n",
       "    .dataframe thead th {\n",
       "        text-align: right;\n",
       "    }\n",
       "</style>\n",
       "<table border=\"1\" class=\"dataframe\">\n",
       "  <thead>\n",
       "    <tr style=\"text-align: right;\">\n",
       "      <th></th>\n",
       "      <th>Training</th>\n",
       "      <th>Test</th>\n",
       "    </tr>\n",
       "  </thead>\n",
       "  <tbody>\n",
       "    <tr>\n",
       "      <th>Accurary</th>\n",
       "      <td>0.876016</td>\n",
       "      <td>0.856031</td>\n",
       "    </tr>\n",
       "    <tr>\n",
       "      <th>Jaccard</th>\n",
       "      <td>0.605178</td>\n",
       "      <td>0.513158</td>\n",
       "    </tr>\n",
       "    <tr>\n",
       "      <th>F1</th>\n",
       "      <td>0.754032</td>\n",
       "      <td>0.678261</td>\n",
       "    </tr>\n",
       "    <tr>\n",
       "      <th>AUC</th>\n",
       "      <td>0.948900</td>\n",
       "      <td>0.881530</td>\n",
       "    </tr>\n",
       "  </tbody>\n",
       "</table>\n",
       "</div>"
      ],
      "text/plain": [
       "          Training      Test\n",
       "Accurary  0.876016  0.856031\n",
       "Jaccard   0.605178  0.513158\n",
       "F1        0.754032  0.678261\n",
       "AUC       0.948900  0.881530"
      ]
     },
     "execution_count": 103,
     "metadata": {},
     "output_type": "execute_result"
    }
   ],
   "source": [
    "neigh = KNeighborsClassifier(n_neighbors=5, metric=\"euclidean\", p=2)\n",
    "neigh.fit(trainX_s, trainY);\n",
    "\n",
    "trainYp=neigh.predict_proba(trainX_s)\n",
    "testYp=neigh.predict_proba(testX_s)\n",
    "\n",
    "scoredf_kn=get_scoredf(trainY, trainYp, testY, testYp)\n",
    "scoredf_kn"
   ]
  },
  {
   "cell_type": "code",
   "execution_count": 104,
   "id": "03f81409",
   "metadata": {},
   "outputs": [
    {
     "data": {
      "text/html": [
       "<div>\n",
       "<style scoped>\n",
       "    .dataframe tbody tr th:only-of-type {\n",
       "        vertical-align: middle;\n",
       "    }\n",
       "\n",
       "    .dataframe tbody tr th {\n",
       "        vertical-align: top;\n",
       "    }\n",
       "\n",
       "    .dataframe thead th {\n",
       "        text-align: right;\n",
       "    }\n",
       "</style>\n",
       "<table border=\"1\" class=\"dataframe\">\n",
       "  <thead>\n",
       "    <tr style=\"text-align: right;\">\n",
       "      <th></th>\n",
       "      <th>Training</th>\n",
       "      <th>Test</th>\n",
       "    </tr>\n",
       "  </thead>\n",
       "  <tbody>\n",
       "    <tr>\n",
       "      <th>Accurary</th>\n",
       "      <td>0.957317</td>\n",
       "      <td>0.840467</td>\n",
       "    </tr>\n",
       "    <tr>\n",
       "      <th>Jaccard</th>\n",
       "      <td>0.843866</td>\n",
       "      <td>0.438356</td>\n",
       "    </tr>\n",
       "    <tr>\n",
       "      <th>F1</th>\n",
       "      <td>0.915323</td>\n",
       "      <td>0.609524</td>\n",
       "    </tr>\n",
       "    <tr>\n",
       "      <th>AUC</th>\n",
       "      <td>0.988940</td>\n",
       "      <td>0.878287</td>\n",
       "    </tr>\n",
       "  </tbody>\n",
       "</table>\n",
       "</div>"
      ],
      "text/plain": [
       "          Training      Test\n",
       "Accurary  0.957317  0.840467\n",
       "Jaccard   0.843866  0.438356\n",
       "F1        0.915323  0.609524\n",
       "AUC       0.988940  0.878287"
      ]
     },
     "execution_count": 104,
     "metadata": {},
     "output_type": "execute_result"
    }
   ],
   "source": [
    "clfs=SVC(gamma=\"auto\", kernel=\"rbf\", C=100, probability=True)\n",
    "clfs.fit(trainX_s, trainY)\n",
    "\n",
    "trainYp=clfs.predict_proba(trainX_s)\n",
    "testYp=clfs.predict_proba(testX_s)\n",
    "\n",
    "scoredf_svm=get_scoredf(trainY, trainYp, testY, testYp)\n",
    "scoredf_svm"
   ]
  },
  {
   "cell_type": "code",
   "execution_count": 105,
   "id": "68306b23",
   "metadata": {},
   "outputs": [],
   "source": [
    "from sklearn.ensemble import GradientBoostingClassifier, AdaBoostClassifier"
   ]
  },
  {
   "cell_type": "code",
   "execution_count": 106,
   "id": "b82f8fba",
   "metadata": {},
   "outputs": [
    {
     "data": {
      "text/html": [
       "<div>\n",
       "<style scoped>\n",
       "    .dataframe tbody tr th:only-of-type {\n",
       "        vertical-align: middle;\n",
       "    }\n",
       "\n",
       "    .dataframe tbody tr th {\n",
       "        vertical-align: top;\n",
       "    }\n",
       "\n",
       "    .dataframe thead th {\n",
       "        text-align: right;\n",
       "    }\n",
       "</style>\n",
       "<table border=\"1\" class=\"dataframe\">\n",
       "  <thead>\n",
       "    <tr style=\"text-align: right;\">\n",
       "      <th></th>\n",
       "      <th>Training</th>\n",
       "      <th>Test</th>\n",
       "    </tr>\n",
       "  </thead>\n",
       "  <tbody>\n",
       "    <tr>\n",
       "      <th>Accurary</th>\n",
       "      <td>1.0</td>\n",
       "      <td>0.856031</td>\n",
       "    </tr>\n",
       "    <tr>\n",
       "      <th>Jaccard</th>\n",
       "      <td>1.0</td>\n",
       "      <td>0.493151</td>\n",
       "    </tr>\n",
       "    <tr>\n",
       "      <th>F1</th>\n",
       "      <td>1.0</td>\n",
       "      <td>0.660550</td>\n",
       "    </tr>\n",
       "    <tr>\n",
       "      <th>AUC</th>\n",
       "      <td>1.0</td>\n",
       "      <td>0.898721</td>\n",
       "    </tr>\n",
       "  </tbody>\n",
       "</table>\n",
       "</div>"
      ],
      "text/plain": [
       "          Training      Test\n",
       "Accurary       1.0  0.856031\n",
       "Jaccard        1.0  0.493151\n",
       "F1             1.0  0.660550\n",
       "AUC            1.0  0.898721"
      ]
     },
     "execution_count": 106,
     "metadata": {},
     "output_type": "execute_result"
    }
   ],
   "source": [
    "clfgb = GradientBoostingClassifier(n_estimators=1000, learning_rate=1.0, max_depth=3, random_state=0)\n",
    "clfgb.fit(trainX, trainY)\n",
    "\n",
    "trainYp=clfgb.predict_proba(trainX)\n",
    "testYp=clfgb.predict_proba(testX)\n",
    "\n",
    "scoredf_gb=get_scoredf(trainY, trainYp, testY, testYp)\n",
    "scoredf_gb"
   ]
  },
  {
   "cell_type": "code",
   "execution_count": 107,
   "id": "b7ab701f",
   "metadata": {},
   "outputs": [
    {
     "data": {
      "text/html": [
       "<div>\n",
       "<style scoped>\n",
       "    .dataframe tbody tr th:only-of-type {\n",
       "        vertical-align: middle;\n",
       "    }\n",
       "\n",
       "    .dataframe tbody tr th {\n",
       "        vertical-align: top;\n",
       "    }\n",
       "\n",
       "    .dataframe thead th {\n",
       "        text-align: right;\n",
       "    }\n",
       "</style>\n",
       "<table border=\"1\" class=\"dataframe\">\n",
       "  <thead>\n",
       "    <tr style=\"text-align: right;\">\n",
       "      <th></th>\n",
       "      <th>Training</th>\n",
       "      <th>Test</th>\n",
       "    </tr>\n",
       "  </thead>\n",
       "  <tbody>\n",
       "    <tr>\n",
       "      <th>Accurary</th>\n",
       "      <td>0.976626</td>\n",
       "      <td>0.805447</td>\n",
       "    </tr>\n",
       "    <tr>\n",
       "      <th>Jaccard</th>\n",
       "      <td>0.915441</td>\n",
       "      <td>0.375000</td>\n",
       "    </tr>\n",
       "    <tr>\n",
       "      <th>F1</th>\n",
       "      <td>0.955854</td>\n",
       "      <td>0.545455</td>\n",
       "    </tr>\n",
       "    <tr>\n",
       "      <th>AUC</th>\n",
       "      <td>0.998268</td>\n",
       "      <td>0.796642</td>\n",
       "    </tr>\n",
       "  </tbody>\n",
       "</table>\n",
       "</div>"
      ],
      "text/plain": [
       "          Training      Test\n",
       "Accurary  0.976626  0.805447\n",
       "Jaccard   0.915441  0.375000\n",
       "F1        0.955854  0.545455\n",
       "AUC       0.998268  0.796642"
      ]
     },
     "execution_count": 107,
     "metadata": {},
     "output_type": "execute_result"
    }
   ],
   "source": [
    "clfab = AdaBoostClassifier(n_estimators=500, learning_rate=0.95, random_state=0)\n",
    "clfab.fit(trainX, trainY)\n",
    "\n",
    "trainYp=clfab.predict_proba(trainX)\n",
    "testYp=clfab.predict_proba(testX)\n",
    "\n",
    "scoredf_ab=get_scoredf(trainY, trainYp, testY, testYp)\n",
    "scoredf_ab"
   ]
  },
  {
   "cell_type": "code",
   "execution_count": 108,
   "id": "ea72760c",
   "metadata": {},
   "outputs": [],
   "source": [
    "from sklearn.naive_bayes import GaussianNB, BernoulliNB\n",
    "from sklearn.mixture import GaussianMixture, BayesianGaussianMixture"
   ]
  },
  {
   "cell_type": "code",
   "execution_count": 109,
   "id": "a5fa52fe",
   "metadata": {},
   "outputs": [
    {
     "data": {
      "text/html": [
       "<div>\n",
       "<style scoped>\n",
       "    .dataframe tbody tr th:only-of-type {\n",
       "        vertical-align: middle;\n",
       "    }\n",
       "\n",
       "    .dataframe tbody tr th {\n",
       "        vertical-align: top;\n",
       "    }\n",
       "\n",
       "    .dataframe thead th {\n",
       "        text-align: right;\n",
       "    }\n",
       "</style>\n",
       "<table border=\"1\" class=\"dataframe\">\n",
       "  <thead>\n",
       "    <tr style=\"text-align: right;\">\n",
       "      <th></th>\n",
       "      <th>Training</th>\n",
       "      <th>Test</th>\n",
       "    </tr>\n",
       "  </thead>\n",
       "  <tbody>\n",
       "    <tr>\n",
       "      <th>Accurary</th>\n",
       "      <td>0.786585</td>\n",
       "      <td>0.832685</td>\n",
       "    </tr>\n",
       "    <tr>\n",
       "      <th>Jaccard</th>\n",
       "      <td>0.283276</td>\n",
       "      <td>0.328125</td>\n",
       "    </tr>\n",
       "    <tr>\n",
       "      <th>F1</th>\n",
       "      <td>0.441489</td>\n",
       "      <td>0.494118</td>\n",
       "    </tr>\n",
       "    <tr>\n",
       "      <th>AUC</th>\n",
       "      <td>0.787038</td>\n",
       "      <td>0.806770</td>\n",
       "    </tr>\n",
       "  </tbody>\n",
       "</table>\n",
       "</div>"
      ],
      "text/plain": [
       "          Training      Test\n",
       "Accurary  0.786585  0.832685\n",
       "Jaccard   0.283276  0.328125\n",
       "F1        0.441489  0.494118\n",
       "AUC       0.787038  0.806770"
      ]
     },
     "execution_count": 109,
     "metadata": {},
     "output_type": "execute_result"
    }
   ],
   "source": [
    "mynb=GaussianNB()\n",
    "mynb.fit(trainX, trainY)\n",
    "\n",
    "trainYp=mynb.predict_proba(trainX)\n",
    "testYp=mynb.predict_proba(testX)\n",
    "\n",
    "scoredf_nb=get_scoredf(trainY, trainYp, testY, testYp)\n",
    "scoredf_nb"
   ]
  },
  {
   "cell_type": "code",
   "execution_count": 110,
   "id": "09486eae",
   "metadata": {},
   "outputs": [
    {
     "data": {
      "text/html": [
       "<div>\n",
       "<style scoped>\n",
       "    .dataframe tbody tr th:only-of-type {\n",
       "        vertical-align: middle;\n",
       "    }\n",
       "\n",
       "    .dataframe tbody tr th {\n",
       "        vertical-align: top;\n",
       "    }\n",
       "\n",
       "    .dataframe thead th {\n",
       "        text-align: right;\n",
       "    }\n",
       "</style>\n",
       "<table border=\"1\" class=\"dataframe\">\n",
       "  <thead>\n",
       "    <tr style=\"text-align: right;\">\n",
       "      <th></th>\n",
       "      <th>Training</th>\n",
       "      <th>Test</th>\n",
       "    </tr>\n",
       "  </thead>\n",
       "  <tbody>\n",
       "    <tr>\n",
       "      <th>Accurary</th>\n",
       "      <td>0.444106</td>\n",
       "      <td>0.361868</td>\n",
       "    </tr>\n",
       "    <tr>\n",
       "      <th>Jaccard</th>\n",
       "      <td>0.244475</td>\n",
       "      <td>0.154639</td>\n",
       "    </tr>\n",
       "    <tr>\n",
       "      <th>F1</th>\n",
       "      <td>0.392897</td>\n",
       "      <td>0.267857</td>\n",
       "    </tr>\n",
       "    <tr>\n",
       "      <th>AUC</th>\n",
       "      <td>0.609089</td>\n",
       "      <td>0.518213</td>\n",
       "    </tr>\n",
       "  </tbody>\n",
       "</table>\n",
       "</div>"
      ],
      "text/plain": [
       "          Training      Test\n",
       "Accurary  0.444106  0.361868\n",
       "Jaccard   0.244475  0.154639\n",
       "F1        0.392897  0.267857\n",
       "AUC       0.609089  0.518213"
      ]
     },
     "execution_count": 110,
     "metadata": {},
     "output_type": "execute_result"
    }
   ],
   "source": [
    "mymix=GaussianMixture(n_components=2, init_params='kmeans', covariance_type='diag')\n",
    "mymix.fit(trainX, trainY)\n",
    "\n",
    "trainYp=mymix.predict_proba(trainX)\n",
    "testYp=mymix.predict_proba(testX)\n",
    "\n",
    "scoredf_gm=get_scoredf(trainY, trainYp, testY, testYp)\n",
    "scoredf_gm"
   ]
  },
  {
   "cell_type": "markdown",
   "id": "d678ce8b-5c95-440c-b6df-105a889b78ab",
   "metadata": {},
   "source": [
    "After studying the data files on the USGS debris flow emergency webpage, and trying to reproduce Staley's \n",
    "results, I'm sure he used the total rainfall accumulation over 15 minutes, rather than the hourly intensity.\n",
    "The keyword argument toggle in this function fixes this now by default:"
   ]
  },
  {
   "cell_type": "code",
   "execution_count": 111,
   "id": "c2839cb4-1da0-483e-ad76-1e7faf098636",
   "metadata": {},
   "outputs": [],
   "source": [
    "def staley16_lsprob(i15, PropHM, dNBR, KF, use_15min_accum=True):\n",
    "    \n",
    "    if use_15min_accum:\n",
    "        cfact=4.\n",
    "    else:\n",
    "        cfact=1.\n",
    "    PropHM_x_i15 = i15/cfact * PropHM\n",
    "    dNBR_x_i15 = i15/cfact * dNBR\n",
    "    KF_x_i15 = i15/cfact * KF\n",
    "    \n",
    "    beta = -3.61\n",
    "    c1 = 0.41\n",
    "    c2 = 0.67\n",
    "    c3 = 0.70\n",
    "    \n",
    "    x = beta + c1*PropHM_x_i15 + c2*dNBR_x_i15 + c3*KF_x_i15\n",
    "    \n",
    "    #sigmoid function\n",
    "    P=np.exp(x) /  (1. + np.exp(x))\n",
    "    \n",
    "    return P"
   ]
  },
  {
   "cell_type": "code",
   "execution_count": 112,
   "id": "7fe72656-a7be-43a1-adad-ae5bd9c17136",
   "metadata": {},
   "outputs": [
    {
     "data": {
      "text/html": [
       "<div>\n",
       "<style scoped>\n",
       "    .dataframe tbody tr th:only-of-type {\n",
       "        vertical-align: middle;\n",
       "    }\n",
       "\n",
       "    .dataframe tbody tr th {\n",
       "        vertical-align: top;\n",
       "    }\n",
       "\n",
       "    .dataframe thead th {\n",
       "        text-align: right;\n",
       "    }\n",
       "</style>\n",
       "<table border=\"1\" class=\"dataframe\">\n",
       "  <thead>\n",
       "    <tr style=\"text-align: right;\">\n",
       "      <th></th>\n",
       "      <th>Training</th>\n",
       "      <th>Test</th>\n",
       "    </tr>\n",
       "  </thead>\n",
       "  <tbody>\n",
       "    <tr>\n",
       "      <th>Accurary</th>\n",
       "      <td>0.757114</td>\n",
       "      <td>0.789883</td>\n",
       "    </tr>\n",
       "    <tr>\n",
       "      <th>Jaccard</th>\n",
       "      <td>0.387179</td>\n",
       "      <td>0.400000</td>\n",
       "    </tr>\n",
       "    <tr>\n",
       "      <th>F1</th>\n",
       "      <td>0.558226</td>\n",
       "      <td>0.571429</td>\n",
       "    </tr>\n",
       "    <tr>\n",
       "      <th>AUC</th>\n",
       "      <td>0.793567</td>\n",
       "      <td>0.836976</td>\n",
       "    </tr>\n",
       "  </tbody>\n",
       "</table>\n",
       "</div>"
      ],
      "text/plain": [
       "          Training      Test\n",
       "Accurary  0.757114  0.789883\n",
       "Jaccard   0.387179  0.400000\n",
       "F1        0.558226  0.571429\n",
       "AUC       0.793567  0.836976"
      ]
     },
     "execution_count": 112,
     "metadata": {},
     "output_type": "execute_result"
    }
   ],
   "source": [
    "trainYp=staley16_lsprob(trainX[\"peak_i15_mmh\"], trainX[\"prophm23\"], trainX[\"dnbr1000\"], trainX[\"kf\"])\n",
    "testYp=staley16_lsprob(testX[\"peak_i15_mmh\"], testX[\"prophm23\"], testX[\"dnbr1000\"], testX[\"kf\"])\n",
    "\n",
    "trainYpp=np.array([1.-trainYp, trainYp]).T\n",
    "testYpp=np.array([1.-testYp, testYp]).T\n",
    "\n",
    "scoredf_staley=get_scoredf(trainY, trainYpp, testY, testYpp)\n",
    "scoredf_staley"
   ]
  },
  {
   "cell_type": "markdown",
   "id": "fcd1d0f2-f056-4d40-bfc7-e874434e67bd",
   "metadata": {},
   "source": [
    "Merging the Jaccard score for the different classifiers into a single dataframe:"
   ]
  },
  {
   "cell_type": "code",
   "execution_count": 113,
   "id": "2db8501d",
   "metadata": {},
   "outputs": [],
   "source": [
    "dfs={\"Staley 2016\": scoredf_staley,\n",
    "     \"Logistic Regression\": scoredf_lr,\n",
    "     \"Decision Tree\": scoredf_dt, \n",
    "     \"Random Forest\": scoredf_rf, \n",
    "     \"K-nearest Neighbors\": scoredf_kn,\n",
    "     \"Support Vector Machine\": scoredf_svm,\n",
    "     \"Gradient Boosting\": scoredf_gb,\n",
    "     \"AdaBoost\": scoredf_ab,\n",
    "     \"Naive Bayes\": scoredf_nb,\n",
    "     \"GaussianMixture\": scoredf_gm}"
   ]
  },
  {
   "cell_type": "code",
   "execution_count": 114,
   "id": "506ee4bf",
   "metadata": {},
   "outputs": [
    {
     "data": {
      "text/html": [
       "<div>\n",
       "<style scoped>\n",
       "    .dataframe tbody tr th:only-of-type {\n",
       "        vertical-align: middle;\n",
       "    }\n",
       "\n",
       "    .dataframe tbody tr th {\n",
       "        vertical-align: top;\n",
       "    }\n",
       "\n",
       "    .dataframe thead th {\n",
       "        text-align: right;\n",
       "    }\n",
       "</style>\n",
       "<table border=\"1\" class=\"dataframe\">\n",
       "  <thead>\n",
       "    <tr style=\"text-align: right;\">\n",
       "      <th></th>\n",
       "      <th>Training</th>\n",
       "      <th>Testing</th>\n",
       "    </tr>\n",
       "  </thead>\n",
       "  <tbody>\n",
       "    <tr>\n",
       "      <th>Staley 2016</th>\n",
       "      <td>0.387179</td>\n",
       "      <td>0.400000</td>\n",
       "    </tr>\n",
       "    <tr>\n",
       "      <th>Logistic Regression</th>\n",
       "      <td>0.346154</td>\n",
       "      <td>0.405797</td>\n",
       "    </tr>\n",
       "    <tr>\n",
       "      <th>Decision Tree</th>\n",
       "      <td>0.682927</td>\n",
       "      <td>0.454545</td>\n",
       "    </tr>\n",
       "    <tr>\n",
       "      <th>Random Forest</th>\n",
       "      <td>1.000000</td>\n",
       "      <td>0.528571</td>\n",
       "    </tr>\n",
       "    <tr>\n",
       "      <th>K-nearest Neighbors</th>\n",
       "      <td>0.605178</td>\n",
       "      <td>0.513158</td>\n",
       "    </tr>\n",
       "    <tr>\n",
       "      <th>Support Vector Machine</th>\n",
       "      <td>0.843866</td>\n",
       "      <td>0.438356</td>\n",
       "    </tr>\n",
       "    <tr>\n",
       "      <th>Gradient Boosting</th>\n",
       "      <td>1.000000</td>\n",
       "      <td>0.493151</td>\n",
       "    </tr>\n",
       "    <tr>\n",
       "      <th>AdaBoost</th>\n",
       "      <td>0.915441</td>\n",
       "      <td>0.375000</td>\n",
       "    </tr>\n",
       "    <tr>\n",
       "      <th>Naive Bayes</th>\n",
       "      <td>0.283276</td>\n",
       "      <td>0.328125</td>\n",
       "    </tr>\n",
       "    <tr>\n",
       "      <th>GaussianMixture</th>\n",
       "      <td>0.244475</td>\n",
       "      <td>0.154639</td>\n",
       "    </tr>\n",
       "  </tbody>\n",
       "</table>\n",
       "</div>"
      ],
      "text/plain": [
       "                        Training   Testing\n",
       "Staley 2016             0.387179  0.400000\n",
       "Logistic Regression     0.346154  0.405797\n",
       "Decision Tree           0.682927  0.454545\n",
       "Random Forest           1.000000  0.528571\n",
       "K-nearest Neighbors     0.605178  0.513158\n",
       "Support Vector Machine  0.843866  0.438356\n",
       "Gradient Boosting       1.000000  0.493151\n",
       "AdaBoost                0.915441  0.375000\n",
       "Naive Bayes             0.283276  0.328125\n",
       "GaussianMixture         0.244475  0.154639"
      ]
     },
     "execution_count": 114,
     "metadata": {},
     "output_type": "execute_result"
    }
   ],
   "source": [
    "trainsum=[dfs[key].loc[\"Jaccard\",\"Training\"] for key in dfs.keys()]\n",
    "testsum=[dfs[key].loc[\"Jaccard\",\"Test\"] for key in dfs.keys()]\n",
    "\n",
    "sumdf=pd.DataFrame({\"Training\": trainsum, \"Testing\": testsum}, index=dfs.keys())\n",
    "sumdf"
   ]
  },
  {
   "cell_type": "code",
   "execution_count": 115,
   "id": "7fc1a9e0-3968-4e09-91db-a4681cc7ddef",
   "metadata": {},
   "outputs": [
    {
     "data": {
      "text/plain": [
       "0.4091342903875801"
      ]
     },
     "execution_count": 115,
     "metadata": {},
     "output_type": "execute_result"
    }
   ],
   "source": [
    "sumdf[\"Testing\"].mean()"
   ]
  },
  {
   "cell_type": "code",
   "execution_count": 116,
   "id": "ffcba011-5446-4bbc-a749-b344ee203b19",
   "metadata": {},
   "outputs": [],
   "source": [
    "from sklearn.metrics import roc_curve, RocCurveDisplay"
   ]
  },
  {
   "cell_type": "code",
   "execution_count": 117,
   "id": "09811a81",
   "metadata": {
    "scrolled": true
   },
   "outputs": [],
   "source": [
    "models={\"Staley (2016)\": testYpp[:,1],\n",
    "        \"Logistic Regression\": clfl,\n",
    "        #\"Decision Tree\": clfp,\n",
    "        \"Random Forest\": clff,\n",
    "        \"K-Nearest Neighbors\": neigh,\n",
    "        \"SVC\": clfs,\n",
    "        \"Gradient Boosting\": clfgb,\n",
    "        #\"Adaboost\": clfab,\n",
    "        \"Naive Bayes\": mynb}"
   ]
  },
  {
   "cell_type": "code",
   "execution_count": 118,
   "id": "bc10b060-a438-447c-b2d5-e3c11a6e2bc9",
   "metadata": {},
   "outputs": [],
   "source": [
    "import matplotlib.pyplot as plt\n",
    "plt.style.use('dark_background')"
   ]
  },
  {
   "cell_type": "code",
   "execution_count": 119,
   "id": "8d4895e2-0d1f-4901-bfff-679c352e74b0",
   "metadata": {},
   "outputs": [
    {
     "data": {
      "image/png": "[encoded data removed]",
      "text/plain": [
       "<Figure size 432x432 with 1 Axes>"
      ]
     },
     "metadata": {},
     "output_type": "display_data"
    }
   ],
   "source": [
    "fig,ax=plt.subplots(figsize=(6,6))\n",
    "fig.subplots_adjust(left=0.125, bottom=0.1, top=0.98, right=0.98)\n",
    "\n",
    "def compare_rocs(models, ax):\n",
    "    \n",
    "    for modelkind in models.keys():\n",
    "        if type(models[modelkind]).__name__ not in  ['Series','ndarray']:\n",
    "            \n",
    "            if type(models[modelkind]).__name__ in ['SVC', 'KNeighborsClassifier']:\n",
    "                RocCurveDisplay.from_estimator(models[modelkind], testX_s, testY, ax=ax,\n",
    "                                              linewidth=1)\n",
    "            else:\n",
    "                RocCurveDisplay.from_estimator(models[modelkind], testX, testY, ax=ax,\n",
    "                                              linewidth=1)\n",
    "        else:\n",
    "            RocCurveDisplay.from_predictions(testY, models[modelkind], ax=ax, name=modelkind,\n",
    "                                            linewidth=3)\n",
    "                \n",
    "    ax.set_aspect('equal')\n",
    "    ax.set_xlim(-0.01, 1.01)\n",
    "    ax.set_ylim(-0.01, 1.01)\n",
    "    \n",
    "compare_rocs(models, ax)\n",
    "fig.savefig(\"roc_totaccum_addl_features_randn.png\", dpi=300)"
   ]
  },
  {
   "cell_type": "markdown",
   "id": "92e3478d-a3fa-4cb2-831f-9735dcaa81d1",
   "metadata": {},
   "source": [
    "This code saves the predictions for each classifier into subdirectory.  These will be used to plot up ROC curves obtained using different features against each other:"
   ]
  },
  {
   "cell_type": "code",
   "execution_count": 120,
   "id": "df4e5eb1-4005-47e4-bb79-8cd064ae8fdf",
   "metadata": {},
   "outputs": [],
   "source": [
    "from os.path import isdir\n",
    "from posix import mkdir \n",
    "\n",
    "odir=\"newfeats_accum_randn\"\n",
    "\n",
    "if not isdir(odir):\n",
    "    mkdir(odir)"
   ]
  },
  {
   "cell_type": "code",
   "execution_count": 121,
   "id": "bca268a3-561d-43e0-9a8e-f593dee73e20",
   "metadata": {},
   "outputs": [],
   "source": [
    "import pickle"
   ]
  },
  {
   "cell_type": "code",
   "execution_count": 122,
   "id": "cfc1f556-9f6f-41ad-a0f7-0634ae271a6b",
   "metadata": {},
   "outputs": [],
   "source": [
    "for key in models.keys():\n",
    "    \n",
    "    if type(models[key]).__name__ != 'ndarray':\n",
    "        if type(models[key]).__name__ in ['SVC', 'KNeighborsClassifier']:\n",
    "            testY_proba=models[key].predict_proba(testX_s)\n",
    "        else:\n",
    "            testY_proba=models[key].predict_proba(testX)\n",
    "    else:\n",
    "        testY_proba=models[key]\n",
    "        \n",
    "    outfile=odir + '/' + key + '_proba.pkl'\n",
    "    pickle.dump(testY_proba, open(outfile, \"wb\"))"
   ]
  },
  {
   "cell_type": "code",
   "execution_count": 123,
   "id": "d829870e-34a3-4150-b268-08274efd981f",
   "metadata": {},
   "outputs": [
    {
     "name": "stdout",
     "output_type": "stream",
     "text": [
      "total 60\n",
      "-rw-r--r-- 1 droten droten 4265 May 19 21:21 'Gradient Boosting_proba.pkl'\n",
      "-rw-r--r-- 1 droten droten 4265 May 19 21:21 'K-Nearest Neighbors_proba.pkl'\n",
      "-rw-r--r-- 1 droten droten 4265 May 19 21:21 'Logistic Regression_proba.pkl'\n",
      "-rw-r--r-- 1 droten droten 4265 May 19 21:21 'Naive Bayes_proba.pkl'\n",
      "-rw-r--r-- 1 droten droten 4265 May 19 21:21 'Random Forest_proba.pkl'\n",
      "-rw-r--r-- 1 droten droten 4265 May 19 21:21  SVC_proba.pkl\n",
      "-rw-r--r-- 1 droten droten 2207 May 19 21:21 'Staley (2016)_proba.pkl'\n",
      "-rw-r--r-- 1 droten droten 6924 May 19 20:58  testY.pkl\n"
     ]
    }
   ],
   "source": [
    "!ls -l $odir"
   ]
  },
  {
   "cell_type": "code",
   "execution_count": 124,
   "id": "f08191e2-4bff-4e0e-a88d-3864686fb138",
   "metadata": {},
   "outputs": [],
   "source": [
    "pickle.dump(testY, open(f\"{odir}/testY.pkl\", \"wb\"))"
   ]
  },
  {
   "cell_type": "markdown",
   "id": "79cf2cd1-1e6b-4af1-8a02-e976ccca1eaa",
   "metadata": {},
   "source": [
    "From [diagnostic test assessment](https://www.sciencedirect.com/science/article/pii/S1556086415306043):\n",
    "\n",
    "\"AUC is an effective way to summarize the overall diagnostic accuracy of the test. It takes values from 0 to 1, where a value of 0 indicates a perfectly inaccurate test and a value of 1 reflects a perfectly accurate test. AUC can be computed using the trapezoidal rule. In general, an AUC of 0.5 suggests no discrimination (i.e., ability to diagnose patients with and without the disease or condition based on the test), 0.7 to 0.8 is considered acceptable, 0.8 to 0.9 is considered excellent, and more than 0.9 is considered outstanding.\""
   ]
  },
  {
   "cell_type": "markdown",
   "id": "29038232-b428-408c-a1c9-e0ed80a2ae13",
   "metadata": {},
   "source": [
    "Merge training and testing data, and re-train:"
   ]
  },
  {
   "cell_type": "code",
   "execution_count": 125,
   "id": "3bca99f0-953a-4943-a416-37aefa27d5f0",
   "metadata": {},
   "outputs": [
    {
     "data": {
      "text/plain": [
       "((1241, 10), (1241,))"
      ]
     },
     "execution_count": 125,
     "metadata": {},
     "output_type": "execute_result"
    }
   ],
   "source": [
    "traintestX = pd.concat([trainX, testX])\n",
    "traintestY = pd.concat([trainY, testY])\n",
    "\n",
    "traintestX.shape, traintestY.shape"
   ]
  },
  {
   "cell_type": "markdown",
   "id": "c8f2a418-ff3a-4f3b-b2c3-33fb026bf938",
   "metadata": {},
   "source": [
    "Save trained classifier.  It will be re-used for making predictions on new cases:"
   ]
  },
  {
   "cell_type": "code",
   "execution_count": 126,
   "id": "cb5e69d4-d9c6-4e6a-9092-29bee7ce2d4a",
   "metadata": {},
   "outputs": [],
   "source": [
    "clffp = RandomForestClassifier(max_depth=rfdpt, random_state=0, criterion=\"gini\")\n",
    "clffp.fit(traintestX, traintestY)\n",
    "pickle.dump(clffp, open(\"Random_forest_classifier_newfeats.pkl\", \"wb\"))"
   ]
  },
  {
   "cell_type": "code",
   "execution_count": null,
   "id": "5baf4ccd-e0f9-4834-8681-42952089a1cb",
   "metadata": {},
   "outputs": [],
   "source": []
  }
 ],
 "metadata": {
  "kernelspec": {
   "display_name": "Python 3 (ipykernel)",
   "language": "python",
   "name": "python3"
  },
  "language_info": {
   "codemirror_mode": {
    "name": "ipython",
    "version": 3
   },
   "file_extension": ".py",
   "mimetype": "text/x-python",
   "name": "python",
   "nbconvert_exporter": "python",
   "pygments_lexer": "ipython3",
   "version": "3.8.10"
  }
 },
 "nbformat": 4,
 "nbformat_minor": 5
}
