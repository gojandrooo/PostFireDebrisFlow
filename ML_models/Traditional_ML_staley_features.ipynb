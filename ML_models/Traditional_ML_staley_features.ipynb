{
 "cells": [
  {
   "cell_type": "markdown",
   "id": "02009ac5-3a41-4bed-af33-52f410e332b6",
   "metadata": {},
   "source": [
    "# 2. Traditional ML models, trained using Staley's features.\n",
    "\n",
    "Retraining ML model using just 6 features from Staley model (those available from USGS shapefiles):\n",
    "\n",
    "-I15, total accumulation, storm duration, Area, PropHM23, dNBR1000, KF"
   ]
  },
  {
   "cell_type": "code",
   "execution_count": 50,
   "id": "8426412a",
   "metadata": {},
   "outputs": [],
   "source": [
    "import pandas as pd\n",
    "pd.set_option(\"max_colwidth\", 50)\n",
    "import pickle\n",
    "import numpy as np"
   ]
  },
  {
   "cell_type": "code",
   "execution_count": 51,
   "id": "c3754c45-bd64-46e6-9df8-2bbf21df697c",
   "metadata": {},
   "outputs": [],
   "source": [
    "trainX_all, trainY, testX_all, testY = pickle.load(open(\"staley16+addtl_feats_split.pkl\",\"rb\"))"
   ]
  },
  {
   "cell_type": "markdown",
   "id": "f9f298f2-1855-42cc-b63f-018c546a4a5d",
   "metadata": {},
   "source": [
    "Reduce to features from Staley's model only:"
   ]
  },
  {
   "cell_type": "code",
   "execution_count": 3,
   "id": "73a9f93b-d1cc-44bc-bb4f-0f703dd31901",
   "metadata": {},
   "outputs": [],
   "source": [
    "use_feats = [\n",
    "    \"stormdur_h\",\n",
    "    \"stormaccum_mm\",\n",
    "    \"peak_i15_mmh\",\n",
    "    \"contributingarea_km2\",\n",
    "    \"prophm23\",\n",
    "    \"dnbr1000\",\n",
    "    \"kf\"]\n",
    "\n",
    "trainX = trainX_all[use_feats]\n",
    "testX = testX_all[use_feats]"
   ]
  },
  {
   "cell_type": "code",
   "execution_count": 15,
   "id": "e93d199f-3388-417b-8d19-e39add40220f",
   "metadata": {},
   "outputs": [
    {
     "data": {
      "text/plain": [
       "((982, 7), (261, 7), (982,), (261,))"
      ]
     },
     "execution_count": 15,
     "metadata": {},
     "output_type": "execute_result"
    }
   ],
   "source": [
    "trainX.shape, testX.shape, trainY.shape, testY.shape"
   ]
  },
  {
   "cell_type": "code",
   "execution_count": 5,
   "id": "507eaa18",
   "metadata": {},
   "outputs": [],
   "source": [
    "from sklearn.neighbors import KNeighborsClassifier, DistanceMetric\n",
    "from sklearn.metrics import accuracy_score, f1_score, jaccard_score, roc_auc_score\n",
    "from sklearn.tree import DecisionTreeClassifier, export_graphviz\n",
    "from sklearn.linear_model import LogisticRegression\n",
    "from sklearn.ensemble import RandomForestClassifier"
   ]
  },
  {
   "cell_type": "markdown",
   "id": "c2728ccf-90df-4992-b34d-0bf408cd8e53",
   "metadata": {},
   "source": [
    "Function to get score for given classifier, and save into dataframe:"
   ]
  },
  {
   "cell_type": "code",
   "execution_count": 7,
   "id": "86cc8dbb",
   "metadata": {},
   "outputs": [],
   "source": [
    "def get_scores(trues, probs):\n",
    "    scores=[func(trues, np.round(probs[:,1])) for func in [accuracy_score, jaccard_score, f1_score]]\n",
    "    scores.append(roc_auc_score(trues, probs[:,1]))\n",
    "    return scores\n",
    "\n",
    "def get_scoredf(TrTr, TrPr, TeTr, TePr):\n",
    "    train_scores=get_scores(TrTr, TrPr)\n",
    "    test_scores=get_scores(TeTr, TePr)\n",
    "    \n",
    "    scoredf=pd.DataFrame({\"Training\": train_scores, \"Test\": test_scores}, \n",
    "                         index=[\"Accurary\", \"Jaccard\", \"F1\", \"AUC\"])\n",
    "    return scoredf"
   ]
  },
  {
   "cell_type": "code",
   "execution_count": 8,
   "id": "bc781b9d",
   "metadata": {},
   "outputs": [
    {
     "data": {
      "text/html": [
       "<div>\n",
       "<style scoped>\n",
       "    .dataframe tbody tr th:only-of-type {\n",
       "        vertical-align: middle;\n",
       "    }\n",
       "\n",
       "    .dataframe tbody tr th {\n",
       "        vertical-align: top;\n",
       "    }\n",
       "\n",
       "    .dataframe thead th {\n",
       "        text-align: right;\n",
       "    }\n",
       "</style>\n",
       "<table border=\"1\" class=\"dataframe\">\n",
       "  <thead>\n",
       "    <tr style=\"text-align: right;\">\n",
       "      <th></th>\n",
       "      <th>Training</th>\n",
       "      <th>Test</th>\n",
       "    </tr>\n",
       "  </thead>\n",
       "  <tbody>\n",
       "    <tr>\n",
       "      <th>Accurary</th>\n",
       "      <td>0.922607</td>\n",
       "      <td>0.846743</td>\n",
       "    </tr>\n",
       "    <tr>\n",
       "      <th>Jaccard</th>\n",
       "      <td>0.718519</td>\n",
       "      <td>0.420290</td>\n",
       "    </tr>\n",
       "    <tr>\n",
       "      <th>F1</th>\n",
       "      <td>0.836207</td>\n",
       "      <td>0.591837</td>\n",
       "    </tr>\n",
       "    <tr>\n",
       "      <th>AUC</th>\n",
       "      <td>0.979286</td>\n",
       "      <td>0.806332</td>\n",
       "    </tr>\n",
       "  </tbody>\n",
       "</table>\n",
       "</div>"
      ],
      "text/plain": [
       "          Training      Test\n",
       "Accurary  0.922607  0.846743\n",
       "Jaccard   0.718519  0.420290\n",
       "F1        0.836207  0.591837\n",
       "AUC       0.979286  0.806332"
      ]
     },
     "execution_count": 8,
     "metadata": {},
     "output_type": "execute_result"
    }
   ],
   "source": [
    "select_criterion=\"entropy\"\n",
    "clfp=DecisionTreeClassifier(criterion=select_criterion, max_depth=9)\n",
    "#merging train and validation dataset\n",
    "\n",
    "clfp.fit(trainX, trainY)\n",
    "trainYp=clfp.predict_proba(trainX)\n",
    "testYp=clfp.predict_proba(testX)\n",
    "\n",
    "scoredf_dt=get_scoredf(trainY, trainYp, testY, testYp)\n",
    "scoredf_dt"
   ]
  },
  {
   "cell_type": "markdown",
   "id": "69129ea8-6b1b-449b-a728-0f98dc3885db",
   "metadata": {},
   "source": [
    "Testing different ML models:"
   ]
  },
  {
   "cell_type": "code",
   "execution_count": 9,
   "id": "43bc7c02",
   "metadata": {},
   "outputs": [
    {
     "data": {
      "text/html": [
       "<div>\n",
       "<style scoped>\n",
       "    .dataframe tbody tr th:only-of-type {\n",
       "        vertical-align: middle;\n",
       "    }\n",
       "\n",
       "    .dataframe tbody tr th {\n",
       "        vertical-align: top;\n",
       "    }\n",
       "\n",
       "    .dataframe thead th {\n",
       "        text-align: right;\n",
       "    }\n",
       "</style>\n",
       "<table border=\"1\" class=\"dataframe\">\n",
       "  <thead>\n",
       "    <tr style=\"text-align: right;\">\n",
       "      <th></th>\n",
       "      <th>Training</th>\n",
       "      <th>Test</th>\n",
       "    </tr>\n",
       "  </thead>\n",
       "  <tbody>\n",
       "    <tr>\n",
       "      <th>Accurary</th>\n",
       "      <td>0.793279</td>\n",
       "      <td>0.846743</td>\n",
       "    </tr>\n",
       "    <tr>\n",
       "      <th>Jaccard</th>\n",
       "      <td>0.349359</td>\n",
       "      <td>0.322034</td>\n",
       "    </tr>\n",
       "    <tr>\n",
       "      <th>F1</th>\n",
       "      <td>0.517815</td>\n",
       "      <td>0.487179</td>\n",
       "    </tr>\n",
       "    <tr>\n",
       "      <th>AUC</th>\n",
       "      <td>0.826930</td>\n",
       "      <td>0.857765</td>\n",
       "    </tr>\n",
       "  </tbody>\n",
       "</table>\n",
       "</div>"
      ],
      "text/plain": [
       "          Training      Test\n",
       "Accurary  0.793279  0.846743\n",
       "Jaccard   0.349359  0.322034\n",
       "F1        0.517815  0.487179\n",
       "AUC       0.826930  0.857765"
      ]
     },
     "execution_count": 9,
     "metadata": {},
     "output_type": "execute_result"
    }
   ],
   "source": [
    "clfl = LogisticRegression(random_state=0, max_iter=10000).fit(trainX, trainY)\n",
    "trainYp=clfl.predict_proba(trainX)\n",
    "testYp=clfl.predict_proba(testX)\n",
    "\n",
    "scoredf_lr=get_scoredf(trainY, trainYp, testY, testYp)\n",
    "scoredf_lr"
   ]
  },
  {
   "cell_type": "code",
   "execution_count": 10,
   "id": "40749aa8-cbd0-4838-8085-77a462239ea5",
   "metadata": {},
   "outputs": [
    {
     "data": {
      "text/html": [
       "<div>\n",
       "<style scoped>\n",
       "    .dataframe tbody tr th:only-of-type {\n",
       "        vertical-align: middle;\n",
       "    }\n",
       "\n",
       "    .dataframe tbody tr th {\n",
       "        vertical-align: top;\n",
       "    }\n",
       "\n",
       "    .dataframe thead th {\n",
       "        text-align: right;\n",
       "    }\n",
       "</style>\n",
       "<table border=\"1\" class=\"dataframe\">\n",
       "  <thead>\n",
       "    <tr style=\"text-align: right;\">\n",
       "      <th></th>\n",
       "      <th>Training</th>\n",
       "      <th>Test</th>\n",
       "    </tr>\n",
       "  </thead>\n",
       "  <tbody>\n",
       "    <tr>\n",
       "      <th>Accurary</th>\n",
       "      <td>0.991853</td>\n",
       "      <td>0.862069</td>\n",
       "    </tr>\n",
       "    <tr>\n",
       "      <th>Jaccard</th>\n",
       "      <td>0.969925</td>\n",
       "      <td>0.446154</td>\n",
       "    </tr>\n",
       "    <tr>\n",
       "      <th>F1</th>\n",
       "      <td>0.984733</td>\n",
       "      <td>0.617021</td>\n",
       "    </tr>\n",
       "    <tr>\n",
       "      <th>AUC</th>\n",
       "      <td>0.999810</td>\n",
       "      <td>0.907656</td>\n",
       "    </tr>\n",
       "  </tbody>\n",
       "</table>\n",
       "</div>"
      ],
      "text/plain": [
       "          Training      Test\n",
       "Accurary  0.991853  0.862069\n",
       "Jaccard   0.969925  0.446154\n",
       "F1        0.984733  0.617021\n",
       "AUC       0.999810  0.907656"
      ]
     },
     "execution_count": 10,
     "metadata": {},
     "output_type": "execute_result"
    }
   ],
   "source": [
    "rfdpt=10\n",
    "clff = RandomForestClassifier(max_depth=rfdpt, random_state=0, criterion=\"entropy\")\n",
    "\n",
    "clff.fit(trainX, trainY)\n",
    "trainYp=clff.predict_proba(trainX)\n",
    "testYp=clff.predict_proba(testX)\n",
    "\n",
    "scoredf_rf=get_scoredf(trainY, trainYp, testY, testYp)\n",
    "scoredf_rf"
   ]
  },
  {
   "cell_type": "code",
   "execution_count": 11,
   "id": "17e84d78",
   "metadata": {},
   "outputs": [],
   "source": [
    "from sklearn.svm import SVC\n",
    "from sklearn.preprocessing import StandardScaler\n",
    "from sklearn.pipeline import make_pipeline"
   ]
  },
  {
   "cell_type": "markdown",
   "id": "1f446f11-ed03-42f5-a22b-5ad350121928",
   "metadata": {},
   "source": [
    "The models below benefit from scaling the features:"
   ]
  },
  {
   "cell_type": "code",
   "execution_count": 20,
   "id": "d9f1cbee-2b73-435b-8724-5993def972cc",
   "metadata": {},
   "outputs": [],
   "source": [
    "ssc=pickle.load(open(\"feature_scaler.pkl\", \"rb\"))\n",
    "trainX_s=pd.DataFrame(ssc.transform(trainX_all), columns=trainX_all.columns)[use_feats]\n",
    "testX_s=pd.DataFrame(ssc.transform(testX_all), columns=testX_all.columns)[use_feats]"
   ]
  },
  {
   "cell_type": "code",
   "execution_count": 22,
   "id": "5b40602b-a389-4501-a895-92fe170170a9",
   "metadata": {},
   "outputs": [
    {
     "data": {
      "text/html": [
       "<div>\n",
       "<style scoped>\n",
       "    .dataframe tbody tr th:only-of-type {\n",
       "        vertical-align: middle;\n",
       "    }\n",
       "\n",
       "    .dataframe tbody tr th {\n",
       "        vertical-align: top;\n",
       "    }\n",
       "\n",
       "    .dataframe thead th {\n",
       "        text-align: right;\n",
       "    }\n",
       "</style>\n",
       "<table border=\"1\" class=\"dataframe\">\n",
       "  <thead>\n",
       "    <tr style=\"text-align: right;\">\n",
       "      <th></th>\n",
       "      <th>Training</th>\n",
       "      <th>Test</th>\n",
       "    </tr>\n",
       "  </thead>\n",
       "  <tbody>\n",
       "    <tr>\n",
       "      <th>Accurary</th>\n",
       "      <td>0.868635</td>\n",
       "      <td>0.842912</td>\n",
       "    </tr>\n",
       "    <tr>\n",
       "      <th>Jaccard</th>\n",
       "      <td>0.589172</td>\n",
       "      <td>0.414286</td>\n",
       "    </tr>\n",
       "    <tr>\n",
       "      <th>F1</th>\n",
       "      <td>0.741483</td>\n",
       "      <td>0.585859</td>\n",
       "    </tr>\n",
       "    <tr>\n",
       "      <th>AUC</th>\n",
       "      <td>0.935041</td>\n",
       "      <td>0.873775</td>\n",
       "    </tr>\n",
       "  </tbody>\n",
       "</table>\n",
       "</div>"
      ],
      "text/plain": [
       "          Training      Test\n",
       "Accurary  0.868635  0.842912\n",
       "Jaccard   0.589172  0.414286\n",
       "F1        0.741483  0.585859\n",
       "AUC       0.935041  0.873775"
      ]
     },
     "execution_count": 22,
     "metadata": {},
     "output_type": "execute_result"
    }
   ],
   "source": [
    "neigh = KNeighborsClassifier(n_neighbors=5, metric=\"euclidean\", p=2)\n",
    "neigh.fit(trainX_s, trainY);\n",
    "\n",
    "trainYp=neigh.predict_proba(trainX_s)\n",
    "testYp=neigh.predict_proba(testX_s)\n",
    "\n",
    "scoredf_kn=get_scoredf(trainY, trainYp, testY, testYp)\n",
    "scoredf_kn"
   ]
  },
  {
   "cell_type": "code",
   "execution_count": 23,
   "id": "03f81409",
   "metadata": {},
   "outputs": [
    {
     "data": {
      "text/html": [
       "<div>\n",
       "<style scoped>\n",
       "    .dataframe tbody tr th:only-of-type {\n",
       "        vertical-align: middle;\n",
       "    }\n",
       "\n",
       "    .dataframe tbody tr th {\n",
       "        vertical-align: top;\n",
       "    }\n",
       "\n",
       "    .dataframe thead th {\n",
       "        text-align: right;\n",
       "    }\n",
       "</style>\n",
       "<table border=\"1\" class=\"dataframe\">\n",
       "  <thead>\n",
       "    <tr style=\"text-align: right;\">\n",
       "      <th></th>\n",
       "      <th>Training</th>\n",
       "      <th>Test</th>\n",
       "    </tr>\n",
       "  </thead>\n",
       "  <tbody>\n",
       "    <tr>\n",
       "      <th>Accurary</th>\n",
       "      <td>0.918534</td>\n",
       "      <td>0.839080</td>\n",
       "    </tr>\n",
       "    <tr>\n",
       "      <th>Jaccard</th>\n",
       "      <td>0.711191</td>\n",
       "      <td>0.333333</td>\n",
       "    </tr>\n",
       "    <tr>\n",
       "      <th>F1</th>\n",
       "      <td>0.831224</td>\n",
       "      <td>0.500000</td>\n",
       "    </tr>\n",
       "    <tr>\n",
       "      <th>AUC</th>\n",
       "      <td>0.968508</td>\n",
       "      <td>0.810958</td>\n",
       "    </tr>\n",
       "  </tbody>\n",
       "</table>\n",
       "</div>"
      ],
      "text/plain": [
       "          Training      Test\n",
       "Accurary  0.918534  0.839080\n",
       "Jaccard   0.711191  0.333333\n",
       "F1        0.831224  0.500000\n",
       "AUC       0.968508  0.810958"
      ]
     },
     "execution_count": 23,
     "metadata": {},
     "output_type": "execute_result"
    }
   ],
   "source": [
    "clfs=SVC(gamma=\"auto\", kernel=\"rbf\", C=100, probability=True)\n",
    "clfs.fit(trainX_s, trainY)\n",
    "\n",
    "trainYp=clfs.predict_proba(trainX_s)\n",
    "testYp=clfs.predict_proba(testX_s)\n",
    "\n",
    "scoredf_svm=get_scoredf(trainY, trainYp, testY, testYp)\n",
    "scoredf_svm"
   ]
  },
  {
   "cell_type": "code",
   "execution_count": 24,
   "id": "68306b23",
   "metadata": {},
   "outputs": [],
   "source": [
    "from sklearn.ensemble import GradientBoostingClassifier, AdaBoostClassifier"
   ]
  },
  {
   "cell_type": "code",
   "execution_count": 25,
   "id": "b82f8fba",
   "metadata": {},
   "outputs": [
    {
     "data": {
      "text/html": [
       "<div>\n",
       "<style scoped>\n",
       "    .dataframe tbody tr th:only-of-type {\n",
       "        vertical-align: middle;\n",
       "    }\n",
       "\n",
       "    .dataframe tbody tr th {\n",
       "        vertical-align: top;\n",
       "    }\n",
       "\n",
       "    .dataframe thead th {\n",
       "        text-align: right;\n",
       "    }\n",
       "</style>\n",
       "<table border=\"1\" class=\"dataframe\">\n",
       "  <thead>\n",
       "    <tr style=\"text-align: right;\">\n",
       "      <th></th>\n",
       "      <th>Training</th>\n",
       "      <th>Test</th>\n",
       "    </tr>\n",
       "  </thead>\n",
       "  <tbody>\n",
       "    <tr>\n",
       "      <th>Accurary</th>\n",
       "      <td>1.0</td>\n",
       "      <td>0.877395</td>\n",
       "    </tr>\n",
       "    <tr>\n",
       "      <th>Jaccard</th>\n",
       "      <td>1.0</td>\n",
       "      <td>0.522388</td>\n",
       "    </tr>\n",
       "    <tr>\n",
       "      <th>F1</th>\n",
       "      <td>1.0</td>\n",
       "      <td>0.686275</td>\n",
       "    </tr>\n",
       "    <tr>\n",
       "      <th>AUC</th>\n",
       "      <td>1.0</td>\n",
       "      <td>0.911103</td>\n",
       "    </tr>\n",
       "  </tbody>\n",
       "</table>\n",
       "</div>"
      ],
      "text/plain": [
       "          Training      Test\n",
       "Accurary       1.0  0.877395\n",
       "Jaccard        1.0  0.522388\n",
       "F1             1.0  0.686275\n",
       "AUC            1.0  0.911103"
      ]
     },
     "execution_count": 25,
     "metadata": {},
     "output_type": "execute_result"
    }
   ],
   "source": [
    "clfgb = GradientBoostingClassifier(n_estimators=1000, learning_rate=1.0, max_depth=3, random_state=0)\n",
    "clfgb.fit(trainX, trainY)\n",
    "\n",
    "trainYp=clfgb.predict_proba(trainX)\n",
    "testYp=clfgb.predict_proba(testX)\n",
    "\n",
    "scoredf_gb=get_scoredf(trainY, trainYp, testY, testYp)\n",
    "scoredf_gb"
   ]
  },
  {
   "cell_type": "code",
   "execution_count": 26,
   "id": "b7ab701f",
   "metadata": {},
   "outputs": [
    {
     "data": {
      "text/html": [
       "<div>\n",
       "<style scoped>\n",
       "    .dataframe tbody tr th:only-of-type {\n",
       "        vertical-align: middle;\n",
       "    }\n",
       "\n",
       "    .dataframe tbody tr th {\n",
       "        vertical-align: top;\n",
       "    }\n",
       "\n",
       "    .dataframe thead th {\n",
       "        text-align: right;\n",
       "    }\n",
       "</style>\n",
       "<table border=\"1\" class=\"dataframe\">\n",
       "  <thead>\n",
       "    <tr style=\"text-align: right;\">\n",
       "      <th></th>\n",
       "      <th>Training</th>\n",
       "      <th>Test</th>\n",
       "    </tr>\n",
       "  </thead>\n",
       "  <tbody>\n",
       "    <tr>\n",
       "      <th>Accurary</th>\n",
       "      <td>0.960285</td>\n",
       "      <td>0.835249</td>\n",
       "    </tr>\n",
       "    <tr>\n",
       "      <th>Jaccard</th>\n",
       "      <td>0.862191</td>\n",
       "      <td>0.385714</td>\n",
       "    </tr>\n",
       "    <tr>\n",
       "      <th>F1</th>\n",
       "      <td>0.925996</td>\n",
       "      <td>0.556701</td>\n",
       "    </tr>\n",
       "    <tr>\n",
       "      <th>AUC</th>\n",
       "      <td>0.994558</td>\n",
       "      <td>0.865385</td>\n",
       "    </tr>\n",
       "  </tbody>\n",
       "</table>\n",
       "</div>"
      ],
      "text/plain": [
       "          Training      Test\n",
       "Accurary  0.960285  0.835249\n",
       "Jaccard   0.862191  0.385714\n",
       "F1        0.925996  0.556701\n",
       "AUC       0.994558  0.865385"
      ]
     },
     "execution_count": 26,
     "metadata": {},
     "output_type": "execute_result"
    }
   ],
   "source": [
    "clfab = AdaBoostClassifier(n_estimators=500, learning_rate=0.95, random_state=0)\n",
    "clfab.fit(trainX, trainY)\n",
    "\n",
    "trainYp=clfab.predict_proba(trainX)\n",
    "testYp=clfab.predict_proba(testX)\n",
    "\n",
    "scoredf_ab=get_scoredf(trainY, trainYp, testY, testYp)\n",
    "scoredf_ab"
   ]
  },
  {
   "cell_type": "code",
   "execution_count": 27,
   "id": "ea72760c",
   "metadata": {},
   "outputs": [],
   "source": [
    "from sklearn.naive_bayes import GaussianNB, BernoulliNB\n",
    "from sklearn.mixture import GaussianMixture, BayesianGaussianMixture"
   ]
  },
  {
   "cell_type": "code",
   "execution_count": 28,
   "id": "a5fa52fe",
   "metadata": {},
   "outputs": [
    {
     "data": {
      "text/html": [
       "<div>\n",
       "<style scoped>\n",
       "    .dataframe tbody tr th:only-of-type {\n",
       "        vertical-align: middle;\n",
       "    }\n",
       "\n",
       "    .dataframe tbody tr th {\n",
       "        vertical-align: top;\n",
       "    }\n",
       "\n",
       "    .dataframe thead th {\n",
       "        text-align: right;\n",
       "    }\n",
       "</style>\n",
       "<table border=\"1\" class=\"dataframe\">\n",
       "  <thead>\n",
       "    <tr style=\"text-align: right;\">\n",
       "      <th></th>\n",
       "      <th>Training</th>\n",
       "      <th>Test</th>\n",
       "    </tr>\n",
       "  </thead>\n",
       "  <tbody>\n",
       "    <tr>\n",
       "      <th>Accurary</th>\n",
       "      <td>0.776986</td>\n",
       "      <td>0.831418</td>\n",
       "    </tr>\n",
       "    <tr>\n",
       "      <th>Jaccard</th>\n",
       "      <td>0.242215</td>\n",
       "      <td>0.266667</td>\n",
       "    </tr>\n",
       "    <tr>\n",
       "      <th>F1</th>\n",
       "      <td>0.389972</td>\n",
       "      <td>0.421053</td>\n",
       "    </tr>\n",
       "    <tr>\n",
       "      <th>AUC</th>\n",
       "      <td>0.786871</td>\n",
       "      <td>0.815040</td>\n",
       "    </tr>\n",
       "  </tbody>\n",
       "</table>\n",
       "</div>"
      ],
      "text/plain": [
       "          Training      Test\n",
       "Accurary  0.776986  0.831418\n",
       "Jaccard   0.242215  0.266667\n",
       "F1        0.389972  0.421053\n",
       "AUC       0.786871  0.815040"
      ]
     },
     "execution_count": 28,
     "metadata": {},
     "output_type": "execute_result"
    }
   ],
   "source": [
    "mynb=GaussianNB()\n",
    "mynb.fit(trainX, trainY)\n",
    "\n",
    "trainYp=mynb.predict_proba(trainX)\n",
    "testYp=mynb.predict_proba(testX)\n",
    "\n",
    "scoredf_nb=get_scoredf(trainY, trainYp, testY, testYp)\n",
    "scoredf_nb"
   ]
  },
  {
   "cell_type": "code",
   "execution_count": 29,
   "id": "09486eae",
   "metadata": {},
   "outputs": [
    {
     "data": {
      "text/html": [
       "<div>\n",
       "<style scoped>\n",
       "    .dataframe tbody tr th:only-of-type {\n",
       "        vertical-align: middle;\n",
       "    }\n",
       "\n",
       "    .dataframe tbody tr th {\n",
       "        vertical-align: top;\n",
       "    }\n",
       "\n",
       "    .dataframe thead th {\n",
       "        text-align: right;\n",
       "    }\n",
       "</style>\n",
       "<table border=\"1\" class=\"dataframe\">\n",
       "  <thead>\n",
       "    <tr style=\"text-align: right;\">\n",
       "      <th></th>\n",
       "      <th>Training</th>\n",
       "      <th>Test</th>\n",
       "    </tr>\n",
       "  </thead>\n",
       "  <tbody>\n",
       "    <tr>\n",
       "      <th>Accurary</th>\n",
       "      <td>0.320774</td>\n",
       "      <td>0.226054</td>\n",
       "    </tr>\n",
       "    <tr>\n",
       "      <th>Jaccard</th>\n",
       "      <td>0.226218</td>\n",
       "      <td>0.147679</td>\n",
       "    </tr>\n",
       "    <tr>\n",
       "      <th>F1</th>\n",
       "      <td>0.368969</td>\n",
       "      <td>0.257353</td>\n",
       "    </tr>\n",
       "    <tr>\n",
       "      <th>AUC</th>\n",
       "      <td>0.505349</td>\n",
       "      <td>0.464351</td>\n",
       "    </tr>\n",
       "  </tbody>\n",
       "</table>\n",
       "</div>"
      ],
      "text/plain": [
       "          Training      Test\n",
       "Accurary  0.320774  0.226054\n",
       "Jaccard   0.226218  0.147679\n",
       "F1        0.368969  0.257353\n",
       "AUC       0.505349  0.464351"
      ]
     },
     "execution_count": 29,
     "metadata": {},
     "output_type": "execute_result"
    }
   ],
   "source": [
    "mymix=GaussianMixture(n_components=2, init_params='kmeans', covariance_type='diag')\n",
    "mymix.fit(trainX, trainY)\n",
    "\n",
    "trainYp=mymix.predict_proba(trainX)\n",
    "testYp=mymix.predict_proba(testX)\n",
    "\n",
    "scoredf_gm=get_scoredf(trainY, trainYp, testY, testYp)\n",
    "scoredf_gm"
   ]
  },
  {
   "cell_type": "markdown",
   "id": "d678ce8b-5c95-440c-b6df-105a889b78ab",
   "metadata": {},
   "source": [
    "After studying the data files on the USGS debris flow emergency webpage, and trying to reproduce Staley's \n",
    "results, I'm sure he used the total rainfall accumulation over 15 minutes, rather than the hourly intensity.\n",
    "The keyword argument toggle in this function fixes this now by default:"
   ]
  },
  {
   "cell_type": "code",
   "execution_count": 30,
   "id": "c2839cb4-1da0-483e-ad76-1e7faf098636",
   "metadata": {},
   "outputs": [],
   "source": [
    "def staley16_lsprob(i15, PropHM, dNBR, KF, use_15min_accum=True):\n",
    "    \n",
    "    if use_15min_accum:\n",
    "        cfact=4.\n",
    "    else:\n",
    "        cfact=1.\n",
    "    PropHM_x_i15 = i15/cfact * PropHM\n",
    "    dNBR_x_i15 = i15/cfact * dNBR\n",
    "    KF_x_i15 = i15/cfact * KF\n",
    "    \n",
    "    beta = -3.61\n",
    "    c1 = 0.41\n",
    "    c2 = 0.67\n",
    "    c3 = 0.70\n",
    "    \n",
    "    x = beta + c1*PropHM_x_i15 + c2*dNBR_x_i15 + c3*KF_x_i15\n",
    "    \n",
    "    #sigmoid function\n",
    "    P=np.exp(x) /  (1. + np.exp(x))\n",
    "    \n",
    "    return P"
   ]
  },
  {
   "cell_type": "code",
   "execution_count": 31,
   "id": "7fe72656-a7be-43a1-adad-ae5bd9c17136",
   "metadata": {},
   "outputs": [
    {
     "data": {
      "text/html": [
       "<div>\n",
       "<style scoped>\n",
       "    .dataframe tbody tr th:only-of-type {\n",
       "        vertical-align: middle;\n",
       "    }\n",
       "\n",
       "    .dataframe tbody tr th {\n",
       "        vertical-align: top;\n",
       "    }\n",
       "\n",
       "    .dataframe thead th {\n",
       "        text-align: right;\n",
       "    }\n",
       "</style>\n",
       "<table border=\"1\" class=\"dataframe\">\n",
       "  <thead>\n",
       "    <tr style=\"text-align: right;\">\n",
       "      <th></th>\n",
       "      <th>Training</th>\n",
       "      <th>Test</th>\n",
       "    </tr>\n",
       "  </thead>\n",
       "  <tbody>\n",
       "    <tr>\n",
       "      <th>Accurary</th>\n",
       "      <td>0.757637</td>\n",
       "      <td>0.789272</td>\n",
       "    </tr>\n",
       "    <tr>\n",
       "      <th>Jaccard</th>\n",
       "      <td>0.394402</td>\n",
       "      <td>0.367816</td>\n",
       "    </tr>\n",
       "    <tr>\n",
       "      <th>F1</th>\n",
       "      <td>0.565693</td>\n",
       "      <td>0.537815</td>\n",
       "    </tr>\n",
       "    <tr>\n",
       "      <th>AUC</th>\n",
       "      <td>0.802810</td>\n",
       "      <td>0.790366</td>\n",
       "    </tr>\n",
       "  </tbody>\n",
       "</table>\n",
       "</div>"
      ],
      "text/plain": [
       "          Training      Test\n",
       "Accurary  0.757637  0.789272\n",
       "Jaccard   0.394402  0.367816\n",
       "F1        0.565693  0.537815\n",
       "AUC       0.802810  0.790366"
      ]
     },
     "execution_count": 31,
     "metadata": {},
     "output_type": "execute_result"
    }
   ],
   "source": [
    "trainYp=staley16_lsprob(trainX[\"peak_i15_mmh\"], trainX[\"prophm23\"], trainX[\"dnbr1000\"], trainX[\"kf\"])\n",
    "testYp=staley16_lsprob(testX[\"peak_i15_mmh\"], testX[\"prophm23\"], testX[\"dnbr1000\"], testX[\"kf\"])\n",
    "\n",
    "trainYpp=np.array([1.-trainYp, trainYp]).T\n",
    "testYpp=np.array([1.-testYp, testYp]).T\n",
    "\n",
    "scoredf_staley=get_scoredf(trainY, trainYpp, testY, testYpp)\n",
    "scoredf_staley"
   ]
  },
  {
   "cell_type": "markdown",
   "id": "fcd1d0f2-f056-4d40-bfc7-e874434e67bd",
   "metadata": {},
   "source": [
    "Merging the Jaccard score for the different classifiers into a single dataframe:"
   ]
  },
  {
   "cell_type": "code",
   "execution_count": 32,
   "id": "2db8501d",
   "metadata": {},
   "outputs": [],
   "source": [
    "dfs={\"Staley 2016\": scoredf_staley,\n",
    "     \"Logistic Regression\": scoredf_lr,\n",
    "     \"Decision Tree\": scoredf_dt, \n",
    "     \"Random Forest\": scoredf_rf, \n",
    "     \"K-nearest Neighbors\": scoredf_kn,\n",
    "     \"Support Vector Machine\": scoredf_svm,\n",
    "     \"Gradient Boosting\": scoredf_gb,\n",
    "     \"AdaBoost\": scoredf_ab,\n",
    "     \"Naive Bayes\": scoredf_nb,\n",
    "     \"GaussianMixture\": scoredf_gm}"
   ]
  },
  {
   "cell_type": "code",
   "execution_count": 33,
   "id": "506ee4bf",
   "metadata": {},
   "outputs": [
    {
     "data": {
      "text/html": [
       "<div>\n",
       "<style scoped>\n",
       "    .dataframe tbody tr th:only-of-type {\n",
       "        vertical-align: middle;\n",
       "    }\n",
       "\n",
       "    .dataframe tbody tr th {\n",
       "        vertical-align: top;\n",
       "    }\n",
       "\n",
       "    .dataframe thead th {\n",
       "        text-align: right;\n",
       "    }\n",
       "</style>\n",
       "<table border=\"1\" class=\"dataframe\">\n",
       "  <thead>\n",
       "    <tr style=\"text-align: right;\">\n",
       "      <th></th>\n",
       "      <th>Training</th>\n",
       "      <th>Testing</th>\n",
       "    </tr>\n",
       "  </thead>\n",
       "  <tbody>\n",
       "    <tr>\n",
       "      <th>Staley 2016</th>\n",
       "      <td>0.394402</td>\n",
       "      <td>0.367816</td>\n",
       "    </tr>\n",
       "    <tr>\n",
       "      <th>Logistic Regression</th>\n",
       "      <td>0.349359</td>\n",
       "      <td>0.322034</td>\n",
       "    </tr>\n",
       "    <tr>\n",
       "      <th>Decision Tree</th>\n",
       "      <td>0.718519</td>\n",
       "      <td>0.420290</td>\n",
       "    </tr>\n",
       "    <tr>\n",
       "      <th>Random Forest</th>\n",
       "      <td>0.969925</td>\n",
       "      <td>0.446154</td>\n",
       "    </tr>\n",
       "    <tr>\n",
       "      <th>K-nearest Neighbors</th>\n",
       "      <td>0.589172</td>\n",
       "      <td>0.414286</td>\n",
       "    </tr>\n",
       "    <tr>\n",
       "      <th>Support Vector Machine</th>\n",
       "      <td>0.711191</td>\n",
       "      <td>0.333333</td>\n",
       "    </tr>\n",
       "    <tr>\n",
       "      <th>Gradient Boosting</th>\n",
       "      <td>1.000000</td>\n",
       "      <td>0.522388</td>\n",
       "    </tr>\n",
       "    <tr>\n",
       "      <th>AdaBoost</th>\n",
       "      <td>0.862191</td>\n",
       "      <td>0.385714</td>\n",
       "    </tr>\n",
       "    <tr>\n",
       "      <th>Naive Bayes</th>\n",
       "      <td>0.242215</td>\n",
       "      <td>0.266667</td>\n",
       "    </tr>\n",
       "    <tr>\n",
       "      <th>GaussianMixture</th>\n",
       "      <td>0.226218</td>\n",
       "      <td>0.147679</td>\n",
       "    </tr>\n",
       "  </tbody>\n",
       "</table>\n",
       "</div>"
      ],
      "text/plain": [
       "                        Training   Testing\n",
       "Staley 2016             0.394402  0.367816\n",
       "Logistic Regression     0.349359  0.322034\n",
       "Decision Tree           0.718519  0.420290\n",
       "Random Forest           0.969925  0.446154\n",
       "K-nearest Neighbors     0.589172  0.414286\n",
       "Support Vector Machine  0.711191  0.333333\n",
       "Gradient Boosting       1.000000  0.522388\n",
       "AdaBoost                0.862191  0.385714\n",
       "Naive Bayes             0.242215  0.266667\n",
       "GaussianMixture         0.226218  0.147679"
      ]
     },
     "execution_count": 33,
     "metadata": {},
     "output_type": "execute_result"
    }
   ],
   "source": [
    "trainsum=[dfs[key].loc[\"Jaccard\",\"Training\"] for key in dfs.keys()]\n",
    "testsum=[dfs[key].loc[\"Jaccard\",\"Test\"] for key in dfs.keys()]\n",
    "\n",
    "sumdf=pd.DataFrame({\"Training\": trainsum, \"Testing\": testsum}, index=dfs.keys())\n",
    "sumdf"
   ]
  },
  {
   "cell_type": "code",
   "execution_count": 34,
   "id": "7fc1a9e0-3968-4e09-91db-a4681cc7ddef",
   "metadata": {},
   "outputs": [
    {
     "data": {
      "text/plain": [
       "0.36263610760814247"
      ]
     },
     "execution_count": 34,
     "metadata": {},
     "output_type": "execute_result"
    }
   ],
   "source": [
    "sumdf[\"Testing\"].mean()"
   ]
  },
  {
   "cell_type": "code",
   "execution_count": 35,
   "id": "ffcba011-5446-4bbc-a749-b344ee203b19",
   "metadata": {},
   "outputs": [],
   "source": [
    "from sklearn.metrics import roc_curve, RocCurveDisplay"
   ]
  },
  {
   "cell_type": "code",
   "execution_count": 36,
   "id": "09811a81",
   "metadata": {
    "scrolled": true
   },
   "outputs": [],
   "source": [
    "models={\"Staley (2016)\": testYpp[:,1],\n",
    "        \"Logistic Regression\": clfl,\n",
    "        #\"Decision Tree\": clfp,\n",
    "        \"Random Forest\": clff,\n",
    "        \"K-Nearest Neighbors\": neigh,\n",
    "        \"SVC\": clfs,\n",
    "        \"Gradient Boosting\": clfgb,\n",
    "        #\"Adaboost\": clfab,\n",
    "        \"Naive Bayes\": mynb}"
   ]
  },
  {
   "cell_type": "code",
   "execution_count": 37,
   "id": "bc10b060-a438-447c-b2d5-e3c11a6e2bc9",
   "metadata": {},
   "outputs": [],
   "source": [
    "import matplotlib.pyplot as plt\n",
    "plt.style.use('dark_background')"
   ]
  },
  {
   "cell_type": "code",
   "execution_count": 38,
   "id": "8d4895e2-0d1f-4901-bfff-679c352e74b0",
   "metadata": {},
   "outputs": [
    {
     "data": {
      "image/png": "[encoded data removed]",
      "text/plain": [
       "<Figure size 432x432 with 1 Axes>"
      ]
     },
     "metadata": {
      "needs_background": "dark"
     },
     "output_type": "display_data"
    }
   ],
   "source": [
    "fig,ax=plt.subplots(figsize=(6,6))\n",
    "fig.subplots_adjust(left=0.125, bottom=0.1, top=0.98, right=0.98)\n",
    "\n",
    "def compare_rocs(models, ax):\n",
    "    \n",
    "    for modelkind in models.keys():\n",
    "        if type(models[modelkind]).__name__ not in  ['Series','ndarray']:\n",
    "            \n",
    "            if type(models[modelkind]).__name__ in ['SVC', 'KNeighborsClassifier']:\n",
    "                RocCurveDisplay.from_estimator(models[modelkind], testX_s, testY, ax=ax,\n",
    "                                              linewidth=1)\n",
    "            else:\n",
    "                RocCurveDisplay.from_estimator(models[modelkind], testX, testY, ax=ax,\n",
    "                                              linewidth=1)\n",
    "        else:\n",
    "            RocCurveDisplay.from_predictions(testY, models[modelkind], ax=ax, name=modelkind,\n",
    "                                            linewidth=3)\n",
    "                \n",
    "    ax.set_aspect('equal')\n",
    "    ax.set_xlim(-0.01, 1.01)\n",
    "    ax.set_ylim(-0.01, 1.01)\n",
    "    \n",
    "compare_rocs(models, ax)\n",
    "fig.savefig(\"roc_totaccum_addl_features_randn.png\", dpi=300)"
   ]
  },
  {
   "cell_type": "markdown",
   "id": "92e3478d-a3fa-4cb2-831f-9735dcaa81d1",
   "metadata": {},
   "source": [
    "This code saves the predictions for each classifier into subdirectory.  These will be used to plot up ROC curves obtained using different features against each other:"
   ]
  },
  {
   "cell_type": "code",
   "execution_count": 53,
   "id": "df4e5eb1-4005-47e4-bb79-8cd064ae8fdf",
   "metadata": {},
   "outputs": [],
   "source": [
    "from os.path import isdir\n",
    "from posix import mkdir \n",
    "\n",
    "odir=\"minpars_accum_randn\"\n",
    "\n",
    "if not isdir(odir):\n",
    "    mkdir(odir)"
   ]
  },
  {
   "cell_type": "code",
   "execution_count": 54,
   "id": "bca268a3-561d-43e0-9a8e-f593dee73e20",
   "metadata": {},
   "outputs": [],
   "source": [
    "import pickle"
   ]
  },
  {
   "cell_type": "code",
   "execution_count": 41,
   "id": "cfc1f556-9f6f-41ad-a0f7-0634ae271a6b",
   "metadata": {},
   "outputs": [],
   "source": [
    "for key in models.keys():\n",
    "    \n",
    "    if type(models[key]).__name__ != 'ndarray':\n",
    "        if type(models[key]).__name__ in ['SVC', 'KNeighborsClassifier']:\n",
    "            testY_proba=models[key].predict_proba(testX_s)\n",
    "        else:\n",
    "            testY_proba=models[key].predict_proba(testX)\n",
    "    else:\n",
    "        testY_proba=models[key]\n",
    "        \n",
    "    outfile=odir + '/' + key + '_proba.pkl'\n",
    "    pickle.dump(testY_proba, open(outfile, \"wb\"))"
   ]
  },
  {
   "cell_type": "code",
   "execution_count": 42,
   "id": "d829870e-34a3-4150-b268-08274efd981f",
   "metadata": {},
   "outputs": [
    {
     "name": "stdout",
     "output_type": "stream",
     "text": [
      "total 52\n",
      "-rw-r--r-- 1 droten droten 4329 Mar 16 22:13 'Gradient Boosting_proba.pkl'\n",
      "-rw-r--r-- 1 droten droten 4329 Mar 16 22:13 'K-Nearest Neighbors_proba.pkl'\n",
      "-rw-r--r-- 1 droten droten 4329 Mar 16 22:13 'Logistic Regression_proba.pkl'\n",
      "-rw-r--r-- 1 droten droten 4329 Mar 16 22:13 'Naive Bayes_proba.pkl'\n",
      "-rw-r--r-- 1 droten droten 4329 Mar 16 22:13 'Random Forest_proba.pkl'\n",
      "-rw-r--r-- 1 droten droten 4329 Mar 16 22:13  SVC_proba.pkl\n",
      "-rw-r--r-- 1 droten droten 2239 Mar 16 22:13 'Staley (2016)_proba.pkl'\n"
     ]
    }
   ],
   "source": [
    "!ls -l $odir"
   ]
  },
  {
   "cell_type": "code",
   "execution_count": 43,
   "id": "f08191e2-4bff-4e0e-a88d-3864686fb138",
   "metadata": {},
   "outputs": [],
   "source": [
    "pickle.dump(testY, open(f\"{odir}/testY.pkl\", \"wb\"))"
   ]
  },
  {
   "cell_type": "markdown",
   "id": "79cf2cd1-1e6b-4af1-8a02-e976ccca1eaa",
   "metadata": {},
   "source": [
    "From [diagnostic test assessment](https://www.sciencedirect.com/science/article/pii/S1556086415306043):\n",
    "\n",
    "\"AUC is an effective way to summarize the overall diagnostic accuracy of the test. It takes values from 0 to 1, where a value of 0 indicates a perfectly inaccurate test and a value of 1 reflects a perfectly accurate test. AUC can be computed using the trapezoidal rule. In general, an AUC of 0.5 suggests no discrimination (i.e., ability to diagnose patients with and without the disease or condition based on the test), 0.7 to 0.8 is considered acceptable, 0.8 to 0.9 is considered excellent, and more than 0.9 is considered outstanding.\""
   ]
  },
  {
   "cell_type": "markdown",
   "id": "29038232-b428-408c-a1c9-e0ed80a2ae13",
   "metadata": {},
   "source": [
    "Merge training and testing data, and re-train:"
   ]
  },
  {
   "cell_type": "code",
   "execution_count": 45,
   "id": "3bca99f0-953a-4943-a416-37aefa27d5f0",
   "metadata": {},
   "outputs": [
    {
     "data": {
      "text/plain": [
       "((1243, 7), (1243,))"
      ]
     },
     "execution_count": 45,
     "metadata": {},
     "output_type": "execute_result"
    }
   ],
   "source": [
    "traintestX = pd.concat([trainX, testX])\n",
    "traintestY = pd.concat([trainY, testY])\n",
    "\n",
    "traintestX.shape, traintestY.shape"
   ]
  },
  {
   "cell_type": "markdown",
   "id": "c8f2a418-ff3a-4f3b-b2c3-33fb026bf938",
   "metadata": {},
   "source": [
    "Save trained classifier.  It will be re-used for making predictions on new cases:"
   ]
  },
  {
   "cell_type": "code",
   "execution_count": 49,
   "id": "cb5e69d4-d9c6-4e6a-9092-29bee7ce2d4a",
   "metadata": {},
   "outputs": [],
   "source": [
    "clffp = RandomForestClassifier(max_depth=rfdpt, random_state=0, criterion=\"gini\")\n",
    "clffp.fit(traintestX, traintestY)\n",
    "pickle.dump(clffp, open(\"Random_forest_classifier_basefeats.pkl\", \"wb\"))"
   ]
  },
  {
   "cell_type": "code",
   "execution_count": null,
   "id": "5baf4ccd-e0f9-4834-8681-42952089a1cb",
   "metadata": {},
   "outputs": [],
   "source": []
  }
 ],
 "metadata": {
  "kernelspec": {
   "display_name": "Python 3 (ipykernel)",
   "language": "python",
   "name": "python3"
  },
  "language_info": {
   "codemirror_mode": {
    "name": "ipython",
    "version": 3
   },
   "file_extension": ".py",
   "mimetype": "text/x-python",
   "name": "python",
   "nbconvert_exporter": "python",
   "pygments_lexer": "ipython3",
   "version": "3.8.10"
  }
 },
 "nbformat": 4,
 "nbformat_minor": 5
}
