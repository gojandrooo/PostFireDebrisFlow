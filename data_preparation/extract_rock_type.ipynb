{
 "cells": [
  {
   "cell_type": "markdown",
   "id": "85412cd8-678d-43fa-8183-f212c2a26cf1",
   "metadata": {},
   "source": [
    "# Extract rock type\n",
    "\n",
    "This notebook extracts the fractional makeup of rock types (igneous, sedimentary, metamorphic) present in the catchment area of each debris flow location.\n",
    "\n",
    "Potential improvement: restrict to area with a slope of 23$^\\circ$ or more.  This needs a new catchment area."
   ]
  },
  {
   "cell_type": "code",
   "execution_count": null,
   "id": "236e55da-aafd-43b5-bb97-9a1b2700502f",
   "metadata": {},
   "outputs": [],
   "source": [
    "import geopandas as gpd\n",
    "import pandas as pd\n",
    "import numpy as np\n",
    "import matplotlib.pyplot as plt\n",
    "plt.style.use('dark_background')"
   ]
  },
  {
   "cell_type": "markdown",
   "id": "a40c4c0a-99a6-4f4a-b0c3-0c144d8e0d13",
   "metadata": {},
   "source": [
    "Load a few columns from the sites file which contains the catchment geometry (computed using `extract_contributing_region.ipynb`).\n",
    "Only keep one row per site, and set `SiteID` column as index:"
   ]
  },
  {
   "cell_type": "code",
   "execution_count": null,
   "id": "ffce8b94-56aa-4e39-b442-301178093c7f",
   "metadata": {},
   "outputs": [],
   "source": [
    "#pqfile= \"staley16_observations_catchment_fuelpars_v3.parquet\"\n",
    "pgfile =\"staley16_sites_catchment_fuelpars_v3.parquet\"\n",
    "modelIF=gpd.read_parquet(pgfile).set_crs('epsg:4326')"
   ]
  },
  {
   "cell_type": "code",
   "execution_count": null,
   "id": "f61eefcf-0066-4da1-9cab-072337d35e0a",
   "metadata": {},
   "outputs": [],
   "source": [
    "modelIF=modelIF[[\"newarea\",\"geometry\",\"snapdist\"]]\n",
    "display(modelIF.shape)\n",
    "modelIF.head(n=2)"
   ]
  },
  {
   "cell_type": "markdown",
   "id": "cfd4a15f-8a0c-4247-a592-2e0152a5138e",
   "metadata": {},
   "source": [
    "Geological map needs to be retrieved for every state.  First get a list of states, then download and unpack the map for each state:"
   ]
  },
  {
   "cell_type": "code",
   "execution_count": null,
   "id": "4e69fb28-7aa4-4770-94dd-627c8f18da05",
   "metadata": {},
   "outputs": [],
   "source": [
    "states=gpd.read_parquet(\"staley16_debrisflow.parquet\")[\"state\"].drop_duplicates().to_list()\n",
    "states"
   ]
  },
  {
   "cell_type": "code",
   "execution_count": null,
   "id": "48f0ac4a-b5b6-4e42-aaa8-9dd926055867",
   "metadata": {},
   "outputs": [],
   "source": [
    "odir = \"geological_map\"\n",
    "from os.path import isfile, isdir\n",
    "from posix import mkdir \n",
    "\n",
    "if not isdir(odir):\n",
    "    mkdir(odir)\n",
    "\n",
    "for state in states:\n",
    "    url=\"https://mrdata.usgs.gov/geology/state/shp/\" + state + \".zip\"\n",
    "    ofile=odir + \"/\" + state + \".zip\"\n",
    "    print(url)\n",
    "    if not isfile(ofile):\n",
    "        !curl -o $ofile $url \n",
    "        !unzip -d $odir $ofile"
   ]
  },
  {
   "cell_type": "markdown",
   "id": "c1e7d03c-c800-4ef5-bef6-548332ed064b",
   "metadata": {},
   "source": [
    "Load the geological map of each state and concatenate into a single GeoPandas dataframe:"
   ]
  },
  {
   "cell_type": "code",
   "execution_count": null,
   "id": "30a0a15f-a436-4bb6-a83e-63eb2a09adba",
   "metadata": {},
   "outputs": [],
   "source": [
    "geols=[gpd.read_file(odir + \"/\" + state + \"_geol_poly.shp\") for state in states]"
   ]
  },
  {
   "cell_type": "code",
   "execution_count": null,
   "id": "e9efe9d3-ef5c-4292-a925-2debd30fee88",
   "metadata": {},
   "outputs": [],
   "source": [
    "geol=gpd.GeoDataFrame(pd.concat(geols, ignore_index=True), crs='epsg:4326')"
   ]
  },
  {
   "cell_type": "code",
   "execution_count": null,
   "id": "ec679b95-0294-4350-b804-fbba76b0d1eb",
   "metadata": {},
   "outputs": [],
   "source": [
    "geol[\"GENERALIZE\"].unique()"
   ]
  },
  {
   "cell_type": "markdown",
   "id": "fec6c80f-a80b-4c07-aabb-90dcb99fc3dd",
   "metadata": {},
   "source": [
    "Simplify geology labels, keeping only part before comma:"
   ]
  },
  {
   "cell_type": "code",
   "execution_count": null,
   "id": "b9d83388-48f9-4c4d-9ff2-2cc4bba1796d",
   "metadata": {},
   "outputs": [],
   "source": [
    "def simplify_geol(gen):\n",
    "    #if gen.lower().find(\"and\") >= 0:\n",
    "    if gen == \"Water\":\n",
    "        return gen\n",
    "    else:\n",
    "        return gen.split(\",\")[0]\n",
    "    \n",
    "geol[\"rocktype\"] = geol[\"GENERALIZE\"].apply(simplify_geol)"
   ]
  },
  {
   "cell_type": "code",
   "execution_count": null,
   "id": "9e4e692b-166b-4d28-a357-232acbc573b8",
   "metadata": {},
   "outputs": [],
   "source": [
    "geol[\"rocktype\"].unique()"
   ]
  },
  {
   "cell_type": "code",
   "execution_count": null,
   "id": "f45005dc-5456-4244-b99e-fcc619bfb3b4",
   "metadata": {},
   "outputs": [],
   "source": [
    "print(geol[\"geometry\"].iat[0])"
   ]
  },
  {
   "cell_type": "markdown",
   "id": "8c046b7d-35c2-4ce8-a800-08ad4d966092",
   "metadata": {},
   "source": [
    "Carry out a spatial join between geological map and catchment areas. The resulting dataframe has one row for every match between catchment area and geological units; sometimes more than one per catchment."
   ]
  },
  {
   "cell_type": "code",
   "execution_count": null,
   "id": "3866ff34-ce5f-46d5-a7ff-87557ee7a57a",
   "metadata": {},
   "outputs": [],
   "source": [
    "mrg=modelIF.sjoin(geol, how=\"left\", predicate='intersects')\n",
    "mrg.head(n=2)"
   ]
  },
  {
   "cell_type": "code",
   "execution_count": null,
   "id": "11d44919-6d7b-4233-92f8-26ae26984cd2",
   "metadata": {},
   "outputs": [],
   "source": [
    "mrg.loc[9,:]"
   ]
  },
  {
   "cell_type": "code",
   "execution_count": null,
   "id": "ab68ae42-ae79-4098-ac8c-9e61203fdd88",
   "metadata": {},
   "outputs": [],
   "source": [
    "geol.loc[7533,:]"
   ]
  },
  {
   "cell_type": "code",
   "execution_count": null,
   "id": "469689f3-63b4-412a-af36-21fba32e73f0",
   "metadata": {},
   "outputs": [],
   "source": [
    "import plotly.express as px\n",
    "import plotly\n",
    "plotly.io.templates.default = 'plotly_dark'"
   ]
  },
  {
   "cell_type": "markdown",
   "id": "161e9763-9c13-4789-8cae-bee5b16e88d9",
   "metadata": {},
   "source": [
    "Plotting up one of the catchment aras (for Site 9) and the geological units that make it up:"
   ]
  },
  {
   "cell_type": "code",
   "execution_count": null,
   "id": "d03775a1-31cb-4263-aaf4-81d72973d080",
   "metadata": {},
   "outputs": [],
   "source": [
    "idxc=[9]\n",
    "\n",
    "mif=modelIF.loc[idxc,:].set_crs('epsg:4326')\n",
    "mif[\"Site\"] = mif.index.astype(str)\n",
    "\n",
    "center={\"lon\": mif[\"geometry\"].iat[0].centroid.x,\n",
    "        \"lat\": mif[\"geometry\"].iat[0].centroid.y}\n",
    "\n",
    "fig1=px.choropleth_mapbox(mif,mif[\"geometry\"],\n",
    "                     locations=idxc,\n",
    "                     zoom=12,\n",
    "                     center=center,\n",
    "                     color=\"Site\",\n",
    "                     color_discrete_map={'9': 'green'},\n",
    "                     height=500,\n",
    "                     opacity=0.5,\n",
    "                     mapbox_style=\"stamen-terrain\")\n",
    "\n",
    "idx = mrg.loc[idxc,\"index_right\"].to_list()\n",
    "gidx=geol.loc[idx,:].to_crs('epsg:4326')\n",
    "fig2=px.choropleth_mapbox(gidx, gidx[\"geometry\"],\n",
    "                     locations=idx,\n",
    "                     color=gidx[\"GENERALIZE\"],\n",
    "                     opacity=0.5)\n",
    "                          \n",
    "fig1.add_traces(fig2.data)\n",
    "\n",
    "fig1"
   ]
  },
  {
   "cell_type": "markdown",
   "id": "3cac4a1f-a0a0-4815-af6e-8f27a05d4edd",
   "metadata": {},
   "source": [
    "Counting the number of units present within each catchment area:"
   ]
  },
  {
   "cell_type": "code",
   "execution_count": null,
   "id": "767c2ae1-93ee-44fe-ae4c-f5b05bb58941",
   "metadata": {},
   "outputs": [],
   "source": [
    "rtypes_by_site=mrg.groupby(\"SiteID\").agg({\"rocktype\": \"count\"})\n",
    "rtypes_by_site.head()"
   ]
  },
  {
   "cell_type": "code",
   "execution_count": null,
   "id": "64f0fa2b-685b-4cdc-a20a-adbc21b0e9e9",
   "metadata": {},
   "outputs": [],
   "source": [
    "rtypes_by_site.hist(bins=np.arange(0.5,15.5,1))"
   ]
  },
  {
   "cell_type": "markdown",
   "id": "91858ecc-895e-468b-b9cb-ddfedc03fd55",
   "metadata": {},
   "source": [
    "Most sites have just one rock type, very few more than 5."
   ]
  },
  {
   "cell_type": "markdown",
   "id": "0dd0d0d8-d4b3-4356-ae0d-9fc9ac7bd89a",
   "metadata": {},
   "source": [
    "The function below computes the percentage of overlap of the catchment with each geological unit."
   ]
  },
  {
   "cell_type": "code",
   "execution_count": null,
   "id": "1d357610-ebfa-43aa-af6e-710422790aa4",
   "metadata": {},
   "outputs": [],
   "source": [
    "catch=modelIF.loc[9,\"geometry\"]\n",
    "unit=geol.loc[7533,\"geometry\"]"
   ]
  },
  {
   "cell_type": "code",
   "execution_count": null,
   "id": "ca244a14-10b2-4cac-99be-d6cce7f8d762",
   "metadata": {},
   "outputs": [],
   "source": [
    "#return amount that polygon p2 occupies of the area of polygon p1 as fraction\n",
    "def getpcentoverlap(p1, p2):\n",
    "    return p1.intersection(p2).area/p1.area\n",
    "\n",
    "getpcentoverlap(catch, unit)"
   ]
  },
  {
   "cell_type": "markdown",
   "id": "d6d57cd9-10cf-4e59-a7cc-30a61ff374fb",
   "metadata": {},
   "source": [
    "The spatial join returns the geometry of the left dataframe, not the overlapping area.  \n",
    "Re-joining with geology dataframe to have both catchment and geological unit in the same dataframe, and applying function to get percentual contribution of each geological unit to catchment:"
   ]
  },
  {
   "cell_type": "code",
   "execution_count": null,
   "id": "fb9f12d6-bf40-4995-80c4-20dd9a5cc65f",
   "metadata": {
    "tags": []
   },
   "outputs": [],
   "source": [
    "mrg2=mrg.reset_index().merge(geol[\"geometry\"], left_on=\"index_right\", right_index=True, \n",
    "               suffixes=[\"_c\",\"_g\"], how=\"inner\")\n",
    "print(len(mrg2))"
   ]
  },
  {
   "cell_type": "code",
   "execution_count": null,
   "id": "b994b6b0-5080-478c-bea3-7b8a9c1499c4",
   "metadata": {},
   "outputs": [],
   "source": [
    "mrg2[\"Frac\"]=mrg2[[\"geometry_c\",\"geometry_g\"]].apply(lambda x: getpcentoverlap(x[0], x[1]), axis=1)"
   ]
  },
  {
   "cell_type": "markdown",
   "id": "f43107f5-8d13-4d58-8505-eb6ba5112df9",
   "metadata": {},
   "source": [
    "Querying result for Site 9:"
   ]
  },
  {
   "cell_type": "code",
   "execution_count": null,
   "id": "8a3e85a3-fa77-42f8-8e7f-79392ec62757",
   "metadata": {},
   "outputs": [],
   "source": [
    "mrg2.query(\"SiteID == 9\")[[\"rocktype\",\"Frac\"]]"
   ]
  },
  {
   "cell_type": "code",
   "execution_count": null,
   "id": "776d5ef0-b6d2-4c12-89a4-a118b7ca1f17",
   "metadata": {},
   "outputs": [],
   "source": [
    "len(mrg), len(mrg2)"
   ]
  },
  {
   "cell_type": "markdown",
   "id": "e32f5ed2-d0da-4062-8ef1-44e7a488e6b1",
   "metadata": {},
   "source": [
    "Because similar rock types (e.g., 'metamorphic, sedimentary' and 'metamorphic, igneous') were merged into a simple (e.g., 'metamorphic') rock type, there are duplicate entries by site and rock type in the `mrg2` dataframe.\n",
    "These need to be aggregated such that only one SiteID, rocktype pair exists in the table.  Saving the result to `rtfrag`:"
   ]
  },
  {
   "cell_type": "code",
   "execution_count": null,
   "id": "d111ce1c-273e-425a-a8f4-9593d9321c59",
   "metadata": {},
   "outputs": [],
   "source": [
    "rtfrac=mrg2[[\"SiteID\",\"rocktype\",\"Frac\"]].groupby([\"SiteID\",\"rocktype\"]).agg({\"Frac\": sum})\n",
    "rtfrac.head(n=12).tail()"
   ]
  },
  {
   "cell_type": "markdown",
   "id": "1cfb5c1e-c2b2-4813-a084-f51f19057cc1",
   "metadata": {},
   "source": [
    "Now unstack to create one column per rock type:"
   ]
  },
  {
   "cell_type": "code",
   "execution_count": null,
   "id": "ce2cef1d-13a1-4118-9801-efc32595a7bc",
   "metadata": {},
   "outputs": [],
   "source": [
    "rttable=rtfrac.unstack(level=1).fillna(value=0)\n",
    "rttable.columns=[a[1] for a in rttable.columns]\n",
    "rttable.head()"
   ]
  },
  {
   "cell_type": "markdown",
   "id": "0a4df28b-a4cd-4569-bdc3-51d27cea17b4",
   "metadata": {},
   "source": [
    "Find sites with a water coverage fraction > 0:"
   ]
  },
  {
   "cell_type": "code",
   "execution_count": null,
   "id": "fbea41ff-fa88-42a8-bdea-5e6deb5b2979",
   "metadata": {},
   "outputs": [],
   "source": [
    "rttable.query(\"Water > 0\")"
   ]
  },
  {
   "cell_type": "markdown",
   "id": "ee79980f-25f9-4855-88d0-7b971a373bcf",
   "metadata": {},
   "source": [
    "Just one of the sites has a bit of water inside the catchment.  So that column can be dropped."
   ]
  },
  {
   "cell_type": "code",
   "execution_count": null,
   "id": "c20dc2e2-9298-4089-9e55-1bc220c53854",
   "metadata": {},
   "outputs": [],
   "source": [
    "rttable.sum(axis=0) / (len(rttable))"
   ]
  },
  {
   "cell_type": "markdown",
   "id": "5dc25a1d-e956-4c68-9a75-cdf446c680a3",
   "metadata": {},
   "source": [
    "Ignous, metamorphic and sedimentary make up the bulk of the rock types.  The mixed categories are less than one percent each.  Analyzing in more detail:"
   ]
  },
  {
   "cell_type": "code",
   "execution_count": null,
   "id": "d5a319d7-925d-4f16-aebb-2d04dc2458c4",
   "metadata": {},
   "outputs": [],
   "source": [
    "rttable[rttable[\"Igneous and Metamorphic\"] > 0]"
   ]
  },
  {
   "cell_type": "code",
   "execution_count": null,
   "id": "1b0dde9f-ef12-4ce9-855a-2d6e766da5b1",
   "metadata": {},
   "outputs": [],
   "source": [
    "rttable[rttable[\"Igneous and Sedimentary\"] > 0]"
   ]
  },
  {
   "cell_type": "code",
   "execution_count": null,
   "id": "00848368-3ba0-4201-92f3-1d17e9ff6ec6",
   "metadata": {},
   "outputs": [],
   "source": [
    "rttable[rttable[\"Metamorphic and Sedimentary\"] > 0]"
   ]
  },
  {
   "cell_type": "code",
   "execution_count": null,
   "id": "b27faa2a-dc21-43c1-8ae0-5fff573d65b0",
   "metadata": {},
   "outputs": [],
   "source": [
    "rttable[rttable[\"Unconsolidated\"] > 20]"
   ]
  },
  {
   "cell_type": "markdown",
   "id": "fe6b38bc-64ea-48a6-85d5-841366a243a6",
   "metadata": {},
   "source": [
    "Almost all sites which cover mixed category geological units also cover units of the two respective categories.  So the mixed categories can be distributed (equally) among these two types, reducing the number of columns to just 3."
   ]
  },
  {
   "cell_type": "code",
   "execution_count": null,
   "id": "c10d24a4-e6d2-4efe-b68b-e62bd69dbbf2",
   "metadata": {},
   "outputs": [],
   "source": [
    "#rttable.head(n=1).apply(lambda x: print(type(x)), axis=1)"
   ]
  },
  {
   "cell_type": "code",
   "execution_count": null,
   "id": "4d69797d-6218-43b4-a185-6ab3ca6e27da",
   "metadata": {},
   "outputs": [],
   "source": [
    "def assign_mixed_rock_types(ts):\n",
    "    mixcat=[\"Igneous and Metamorphic\", \"Igneous and Sedimentary\", \"Metamorphic and Sedimentary\"]\n",
    "    \n",
    "    os=ts.copy()\n",
    "    \n",
    "    for mc in mixcat:\n",
    "        cat1=mc.split(\" and \")[0]\n",
    "        cat2=mc.split(\" and \")[1]\n",
    "        \n",
    "        # split rock types in mixed category equally among these rock types\n",
    "        os[cat1] += os[mc] / 2.\n",
    "        os[cat2] += os[mc] / 2.\n",
    "        \n",
    "        os[mc] = 0.\n",
    "        \n",
    "    # add water parts to sedimentary\n",
    "    os[\"Sedimentary\"] +=  os[\"Water\"]\n",
    "    os[\"Water\"] = 0.\n",
    "    \n",
    "    # add and unconsolidated parts to sedimentary\n",
    "    # os[\"Sedimentary\"] += os[\"Unconsolidated\"]\n",
    "    # os[\"Unconsolidated\"] = 0.\n",
    "    \n",
    "    return os"
   ]
  },
  {
   "cell_type": "markdown",
   "id": "64377f60-f3f9-4829-ba24-a081319e084a",
   "metadata": {},
   "source": [
    "Testing the function on 5 rows:"
   ]
  },
  {
   "cell_type": "code",
   "execution_count": null,
   "id": "4e4e7dd4-21f5-44a9-a5f5-12b4537a69f6",
   "metadata": {},
   "outputs": [],
   "source": [
    "rttable.loc[336:340,:]"
   ]
  },
  {
   "cell_type": "code",
   "execution_count": null,
   "id": "2d1ee4d8-e2a7-4425-b550-453b5ff7e023",
   "metadata": {},
   "outputs": [],
   "source": [
    "rttable.loc[336:340,:].apply(assign_mixed_rock_types, axis=1)"
   ]
  },
  {
   "cell_type": "markdown",
   "id": "04ece58a-e09d-4203-bf64-f2150a7527be",
   "metadata": {},
   "source": [
    "Applying to full table and dropping mixed columns (which are now zero) and water:"
   ]
  },
  {
   "cell_type": "code",
   "execution_count": null,
   "id": "204abb45-6b79-4f1f-b6bc-32605a31d929",
   "metadata": {},
   "outputs": [],
   "source": [
    "rttable4=rttable.apply(assign_mixed_rock_types, axis=1).drop(columns=[\"Igneous and Metamorphic\",\n",
    "                                                                      \"Igneous and Sedimentary\",\n",
    "                                                                      \"Metamorphic and Sedimentary\",\n",
    "                                                                      \"Water\"])"
   ]
  },
  {
   "cell_type": "markdown",
   "id": "0c96906a-2123-4f7f-bbf8-80e31bbae647",
   "metadata": {},
   "source": [
    "rttable4.head()"
   ]
  },
  {
   "cell_type": "markdown",
   "id": "88237663-4d09-4149-8c7c-8a9be0cf6781",
   "metadata": {},
   "source": [
    "Add new column with dominant rock type:"
   ]
  },
  {
   "cell_type": "code",
   "execution_count": null,
   "id": "91ddf507-ba42-45cf-b98e-83692da8cd75",
   "metadata": {},
   "outputs": [],
   "source": [
    "rttable4[\"domrt\"]=rttable4.columns[rttable4.values.argmax(axis=1)]"
   ]
  },
  {
   "cell_type": "markdown",
   "id": "8ef48438-20ba-4632-ba5e-11f625afd56e",
   "metadata": {},
   "source": [
    "Read data file that includes observations (debris flow, no debris flow, multiple per site):"
   ]
  },
  {
   "cell_type": "code",
   "execution_count": null,
   "id": "36f8c268-db69-4f43-a4fb-cd10cf8bf0a4",
   "metadata": {},
   "outputs": [],
   "source": [
    "modelIFo=gpd.read_parquet(\"staley16_observations_catchment_fuelpars_v3.parquet\").\\\n",
    "    drop(columns=['NB', 'GR', 'GS', 'SH', 'TU', 'TL', 'dom', 'newarea','snapdist','geometry'])\n",
    "modelIFo.shape"
   ]
  },
  {
   "cell_type": "markdown",
   "id": "2861494a-333d-4be5-9b96-07f681900506",
   "metadata": {},
   "source": [
    "Now join with rock type table on `SiteID`:"
   ]
  },
  {
   "cell_type": "code",
   "execution_count": null,
   "id": "7ab0024c-6380-4599-ab5a-a8ea1199faf2",
   "metadata": {},
   "outputs": [],
   "source": [
    "mrgdata=modelIFo.merge(rttable4, left_on=\"SiteID\", right_index=True)#.merge(siteinfos, left_on=\"SiteID\", right_index=True)"
   ]
  },
  {
   "cell_type": "code",
   "execution_count": null,
   "id": "45f2a3c6-d9e3-46af-98bc-7c0ea6a7e854",
   "metadata": {},
   "outputs": [],
   "source": [
    "import matplotlib.pyplot as plt\n",
    "plt.style.use('dark_background')"
   ]
  },
  {
   "cell_type": "markdown",
   "id": "6ba4f46d-f76c-4c04-9b4d-7c7549cb2b5d",
   "metadata": {},
   "source": [
    "Create plot to rock type distribution for debris flow / no debris flow events:"
   ]
  },
  {
   "cell_type": "code",
   "execution_count": null,
   "id": "d9fbabe5-c12b-43ff-8c1d-abc617ccb3b7",
   "metadata": {},
   "outputs": [],
   "source": [
    "fig,ax=plt.subplots(figsize=(12,10), ncols=2, nrows=2)\n",
    "\n",
    "nodebfl=mrgdata.query(\"response == 0\")\n",
    "debfl=mrgdata.query(\"response == 1\")\n",
    "\n",
    "rts=rttable4.columns[:-1]\n",
    "\n",
    "usedens=True\n",
    "\n",
    "for n,rtype in enumerate(rts):\n",
    "\n",
    "    ax.flatten()[n].hist(nodebfl[rtype], histtype=\"bar\", color=\"gray\", density=usedens, label=\"No debris flow\")\n",
    "    ax.flatten()[n].hist(debfl[rtype], histtype=\"step\", color=\"red\", density=usedens, label=\"debris flow\")\n",
    "    if n==0:\n",
    "        ax.flatten()[n].legend(loc=\"upper center\")\n",
    "    ax.flatten()[n].set_title(rtype)"
   ]
  },
  {
   "cell_type": "markdown",
   "id": "8bb6e39d-183c-4340-8eca-62d2891e12aa",
   "metadata": {},
   "source": [
    "Calculating debris flow likelihood by dominant rock type:"
   ]
  },
  {
   "cell_type": "code",
   "execution_count": null,
   "id": "7f2254d4-527d-44b9-9b7d-c9db3c92df93",
   "metadata": {},
   "outputs": [],
   "source": [
    "nodf_catcont=mrgdata.query(\"response == 0\").groupby(\"domrt\")[\"domrt\"].count()\n",
    "df_catcont=mrgdata.query(\"response == 1\").groupby(\"domrt\")[\"domrt\"].count()"
   ]
  },
  {
   "cell_type": "code",
   "execution_count": null,
   "id": "c569af3d-649b-433a-9ff5-f7cc0b0c39d9",
   "metadata": {},
   "outputs": [],
   "source": [
    "catcont=pd.DataFrame({\"No Debris Flow\": nodf_catcont, \"Debris Flow\": df_catcont})\n",
    "catcont"
   ]
  },
  {
   "cell_type": "code",
   "execution_count": null,
   "id": "b883016c-252c-418c-9f44-780bef7326a9",
   "metadata": {},
   "outputs": [],
   "source": [
    "catcont / catcont.sum(axis=0)"
   ]
  },
  {
   "cell_type": "code",
   "execution_count": null,
   "id": "028b9b2c-a16a-4e47-b482-89c2b6fdee06",
   "metadata": {},
   "outputs": [],
   "source": [
    "catcont[\"DFProb\"] = catcont[\"Debris Flow\"]/(catcont[\"No Debris Flow\"] + catcont[\"Debris Flow\"])\n",
    "catcont"
   ]
  },
  {
   "cell_type": "code",
   "execution_count": null,
   "id": "6be212b0-53b5-47b3-abbc-17336747469c",
   "metadata": {},
   "outputs": [],
   "source": [
    "import matplotlib.pyplot as plt\n",
    "plt.style.use('dark_background')"
   ]
  },
  {
   "cell_type": "code",
   "execution_count": null,
   "id": "b5eba8bf-fb2b-400d-baba-0dbf5af53362",
   "metadata": {
    "tags": []
   },
   "outputs": [],
   "source": [
    "fig2,ax2=plt.subplots(figsize=(5,6))\n",
    "fig2.subplots_adjust(bottom=0.2)\n",
    "catcont[[\"No Debris Flow\",\"Debris Flow\"]].plot(kind=\"bar\", ax=ax2)\n",
    "fig2.savefig(\"rocktype_frequency.png\", dpi=300)"
   ]
  },
  {
   "cell_type": "code",
   "execution_count": null,
   "id": "24a84cbf-3c4f-44f9-94bf-5a99b45055a2",
   "metadata": {},
   "outputs": [],
   "source": [
    "mrgdata.to_parquet(\"staley16_observations_catchment_fuelpars_rocktype_v3.parquet\")"
   ]
  },
  {
   "cell_type": "markdown",
   "id": "67e0dc1f-0906-40c4-83da-eb4e36c7f74a",
   "metadata": {},
   "source": [
    "Creating a dataframe which contains both the catchment and dominant rock type, along site coordinates:"
   ]
  },
  {
   "cell_type": "code",
   "execution_count": null,
   "id": "6ece107c-4063-493a-9d8f-2d03c0625233",
   "metadata": {},
   "outputs": [],
   "source": [
    "sitelocs=modelIFo[[\"lon\",\"lat\",\"SiteID\",\"contributingarea_km2\"]].drop_duplicates().set_index(\"SiteID\", drop=True)"
   ]
  },
  {
   "cell_type": "code",
   "execution_count": null,
   "id": "2c6871ba-d8ef-4343-a0a0-95b4ca352387",
   "metadata": {},
   "outputs": [],
   "source": [
    "plottab=modelIF.join(sitelocs).join(rttable4).to_crs('epsg:4326')"
   ]
  },
  {
   "cell_type": "markdown",
   "id": "c3dcc45d-bb93-4e89-8045-d3690356be9c",
   "metadata": {},
   "source": [
    "Rename column `domrt`:"
   ]
  },
  {
   "cell_type": "code",
   "execution_count": null,
   "id": "a59ff56b-81a8-4b24-ad22-0ca733f3a62d",
   "metadata": {},
   "outputs": [],
   "source": [
    "cols=plottab.columns.to_list()\n",
    "cols.remove(\"domrt\")\n",
    "cols.append(\"Dominant Rock Type\")\n",
    "plottab.columns=cols"
   ]
  },
  {
   "cell_type": "code",
   "execution_count": null,
   "id": "42bb322e-7f5d-4bdf-b657-21f82eedb86b",
   "metadata": {},
   "outputs": [],
   "source": [
    "#how to simplify a shapely geometry\n",
    "#plottab.loc[700,\"geometry\"].simplify(0.00025)"
   ]
  },
  {
   "cell_type": "code",
   "execution_count": null,
   "id": "26c8a93f-c56e-42a6-b078-a82ef61968d6",
   "metadata": {},
   "outputs": [],
   "source": [
    "tol=0.00025\n",
    "plottab[\"geometry_simple\"]=plottab[\"geometry\"].map(lambda x: x.simplify(tol))"
   ]
  },
  {
   "cell_type": "code",
   "execution_count": null,
   "id": "e40db881-5348-44ce-889e-9749e8161fc5",
   "metadata": {},
   "outputs": [],
   "source": [
    "center={\"lon\": plottab[\"geometry\"].centroid.x.median(),\n",
    "        \"lat\": plottab[\"geometry\"].centroid.y.median()}"
   ]
  },
  {
   "cell_type": "code",
   "execution_count": null,
   "id": "41f2e044-3e29-4b06-9b4d-6abef2db42a6",
   "metadata": {},
   "outputs": [],
   "source": [
    "plottab[\"Legend\"] = \"DF Site\"\n",
    "plottab[\"size\"] = 10"
   ]
  },
  {
   "cell_type": "code",
   "execution_count": null,
   "id": "5d19aeaa-481c-4c6f-8211-5bbb29dfd93b",
   "metadata": {},
   "outputs": [],
   "source": [
    "fig1=px.choropleth_mapbox(plottab, plottab[\"geometry_simple\"],\n",
    "                     locations=plottab.index,\n",
    "                     color=\"Dominant Rock Type\",\n",
    "                     #color=\"snapdist\",\n",
    "                     hover_data=[\"Igneous\",\"Metamorphic\",\"Sedimentary\",\"Unconsolidated\"],\n",
    "                     center=center,\n",
    "                     mapbox_style=\"stamen-terrain\",\n",
    "                     height=800,\n",
    "                     zoom=4,\n",
    "                     opacity=0.5)\n",
    "\n",
    "fig2=px.scatter_mapbox(plottab.reset_index(), lon=\"lon\", lat=\"lat\", color=\"Legend\", \n",
    "                      color_discrete_map={\"DF Site\": \"orange\"},\n",
    "                      size=\"size\", size_max=5,\n",
    "                      hover_data=[\"SiteID\", \"contributingarea_km2\", \"newarea\",\"snapdist\"])\n",
    "\n",
    "fig1.add_traces(fig2.data)\n",
    "\n",
    "fig1"
   ]
  },
  {
   "cell_type": "code",
   "execution_count": null,
   "id": "c9369b8d-cc21-4782-923c-e5e07123399d",
   "metadata": {},
   "outputs": [],
   "source": [
    "fig1.write_html(\"staley16_rock_type_mod.html\")"
   ]
  }
 ],
 "metadata": {
  "kernelspec": {
   "display_name": "Python 3 (ipykernel)",
   "language": "python",
   "name": "python3"
  },
  "language_info": {
   "codemirror_mode": {
    "name": "ipython",
    "version": 3
   },
   "file_extension": ".py",
   "mimetype": "text/x-python",
   "name": "python",
   "nbconvert_exporter": "python",
   "pygments_lexer": "ipython3",
   "version": "3.8.10"
  }
 },
 "nbformat": 4,
 "nbformat_minor": 5
}
